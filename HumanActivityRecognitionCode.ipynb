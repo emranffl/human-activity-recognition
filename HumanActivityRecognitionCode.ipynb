{
  "cells": [
    {
      "cell_type": "code",
      "execution_count": null,
      "metadata": {
        "id": "XfjW86aviKvt"
      },
      "outputs": [],
      "source": [
        "import numpy as np\n",
        "import pandas as pd\n",
        "from sklearn.svm import SVC\n",
        "from sklearn.linear_model import LogisticRegression\n",
        "from sklearn.neighbors import KNeighborsClassifier\n",
        "from sklearn.ensemble import RandomForestClassifier\n",
        "from sklearn.tree import DecisionTreeClassifier\n",
        "\n",
        "from sklearn.metrics import accuracy_score"
      ]
    },
    {
      "cell_type": "code",
      "execution_count": null,
      "metadata": {
        "colab": {
          "background_save": true
        },
        "id": "8LuXw1P-X_2E",
        "outputId": "da652875-c3cf-458d-89d2-6bc0f04fd25a"
      },
      "outputs": [
        {
          "name": "stdout",
          "output_type": "stream",
          "text": [
            "Mounted at /content/drive\n"
          ]
        }
      ],
      "source": [
        "from google.colab import drive\n",
        "drive.mount('/content/drive')"
      ]
    },
    {
      "cell_type": "code",
      "execution_count": null,
      "metadata": {
        "colab": {
          "background_save": true
        },
        "id": "C7rhICCMiVpA"
      },
      "outputs": [],
      "source": [
        "data = pd.read_csv('/content/445.csv')\n",
        "data = data.sample(frac = 1)\n",
        "data.isnull().sum()\n",
        "data.drop('user', inplace=True, axis=1)\n"
      ]
    },
    {
      "cell_type": "code",
      "execution_count": null,
      "metadata": {
        "colab": {
          "background_save": true
        },
        "id": "0sRPbaJMMAl5",
        "outputId": "23193b34-4a52-4216-8043-3a1359a850bb"
      },
      "outputs": [
        {
          "name": "stdout",
          "output_type": "stream",
          "text": [
            "         activity     timestamp  x-axis  y-axis    z-axis\n",
            "917      Standing  1.030000e+14   -0.99    9.43 -0.500000\n",
            "27128     Sitting  1.020000e+14    1.42   -0.04  9.660000\n",
            "51299     Walking  5.240000e+12   -6.13   11.18 -7.550000\n",
            "9943     Standing  1.130000e+14   -7.70    6.28  1.120000\n",
            "24098     Jogging  5.420000e+12   -0.15   -1.33  0.760000\n",
            "...           ...           ...     ...     ...       ...\n",
            "29690     Sitting  3.060000e+12    4.40    3.02  8.049625\n",
            "29160     Sitting  3.680000e+12   -7.44   -3.98 -4.990000\n",
            "57769     Walking  5.220000e+12   -0.04    3.38 -0.080000\n",
            "32875     Sitting  2.090000e+14   -6.28   -3.45  6.850000\n",
            "17035  Downstairs  3.370000e+12    4.29   11.84  0.890000\n",
            "\n",
            "[59994 rows x 5 columns]\n"
          ]
        }
      ],
      "source": [
        "print(data)"
      ]
    },
    {
      "cell_type": "code",
      "execution_count": null,
      "metadata": {
        "colab": {
          "background_save": true
        },
        "id": "px2CbOj-oPIT",
        "outputId": "b22626a9-590b-4218-f6dc-fc75e2e06e94"
      },
      "outputs": [
        {
          "name": "stdout",
          "output_type": "stream",
          "text": [
            "True\n"
          ]
        }
      ],
      "source": [
        "data_dup = data.duplicated().any()\n",
        "data = data.drop_duplicates()\n",
        "print(data_dup)"
      ]
    },
    {
      "cell_type": "code",
      "execution_count": null,
      "metadata": {
        "colab": {
          "background_save": true
        },
        "id": "NdwMfpZcoqri"
      },
      "outputs": [],
      "source": [
        "categorical=[]\n",
        "numerical=[]\n",
        "\n",
        "\n",
        "for column in data.columns:\n",
        "  if data[column].nunique()<=10 :\n",
        "    categorical.append(column)\n",
        "  else:\n",
        "    numerical.append(column)\n",
        "\n",
        "\n",
        "\n"
      ]
    },
    {
      "cell_type": "code",
      "execution_count": null,
      "metadata": {
        "colab": {
          "background_save": true
        },
        "id": "uBEcnOfW_dUU"
      },
      "outputs": [],
      "source": [
        "from sklearn.preprocessing import LabelEncoder\n",
        "LE = LabelEncoder()\n",
        "data['activity_cat'] = LE.fit_transform(data['activity'])\n",
        "\n"
      ]
    },
    {
      "cell_type": "code",
      "execution_count": null,
      "metadata": {
        "colab": {
          "background_save": true
        },
        "id": "B47BuLdNqufy",
        "outputId": "5541bafa-58e0-4bfa-849f-3ddb00aac4bf"
      },
      "outputs": [
        {
          "data": {
            "text/html": [
              "\n",
              "  <div id=\"df-c5d30088-61be-480b-b2b3-664f858ee0cc\">\n",
              "    <div class=\"colab-df-container\">\n",
              "      <div>\n",
              "<style scoped>\n",
              "    .dataframe tbody tr th:only-of-type {\n",
              "        vertical-align: middle;\n",
              "    }\n",
              "\n",
              "    .dataframe tbody tr th {\n",
              "        vertical-align: top;\n",
              "    }\n",
              "\n",
              "    .dataframe thead th {\n",
              "        text-align: right;\n",
              "    }\n",
              "</style>\n",
              "<table border=\"1\" class=\"dataframe\">\n",
              "  <thead>\n",
              "    <tr style=\"text-align: right;\">\n",
              "      <th></th>\n",
              "      <th>timestamp</th>\n",
              "      <th>x-axis</th>\n",
              "      <th>y-axis</th>\n",
              "      <th>z-axis</th>\n",
              "      <th>activity_cat</th>\n",
              "      <th>activity_Jogging</th>\n",
              "      <th>activity_Sitting</th>\n",
              "      <th>activity_Standing</th>\n",
              "      <th>activity_Upstairs</th>\n",
              "      <th>activity_Walking</th>\n",
              "    </tr>\n",
              "  </thead>\n",
              "  <tbody>\n",
              "    <tr>\n",
              "      <th>917</th>\n",
              "      <td>1.030000e+14</td>\n",
              "      <td>-0.99</td>\n",
              "      <td>9.43</td>\n",
              "      <td>-0.50</td>\n",
              "      <td>3</td>\n",
              "      <td>0</td>\n",
              "      <td>0</td>\n",
              "      <td>1</td>\n",
              "      <td>0</td>\n",
              "      <td>0</td>\n",
              "    </tr>\n",
              "    <tr>\n",
              "      <th>27128</th>\n",
              "      <td>1.020000e+14</td>\n",
              "      <td>1.42</td>\n",
              "      <td>-0.04</td>\n",
              "      <td>9.66</td>\n",
              "      <td>2</td>\n",
              "      <td>0</td>\n",
              "      <td>1</td>\n",
              "      <td>0</td>\n",
              "      <td>0</td>\n",
              "      <td>0</td>\n",
              "    </tr>\n",
              "    <tr>\n",
              "      <th>51299</th>\n",
              "      <td>5.240000e+12</td>\n",
              "      <td>-6.13</td>\n",
              "      <td>11.18</td>\n",
              "      <td>-7.55</td>\n",
              "      <td>5</td>\n",
              "      <td>0</td>\n",
              "      <td>0</td>\n",
              "      <td>0</td>\n",
              "      <td>0</td>\n",
              "      <td>1</td>\n",
              "    </tr>\n",
              "    <tr>\n",
              "      <th>9943</th>\n",
              "      <td>1.130000e+14</td>\n",
              "      <td>-7.70</td>\n",
              "      <td>6.28</td>\n",
              "      <td>1.12</td>\n",
              "      <td>3</td>\n",
              "      <td>0</td>\n",
              "      <td>0</td>\n",
              "      <td>1</td>\n",
              "      <td>0</td>\n",
              "      <td>0</td>\n",
              "    </tr>\n",
              "    <tr>\n",
              "      <th>24098</th>\n",
              "      <td>5.420000e+12</td>\n",
              "      <td>-0.15</td>\n",
              "      <td>-1.33</td>\n",
              "      <td>0.76</td>\n",
              "      <td>1</td>\n",
              "      <td>1</td>\n",
              "      <td>0</td>\n",
              "      <td>0</td>\n",
              "      <td>0</td>\n",
              "      <td>0</td>\n",
              "    </tr>\n",
              "  </tbody>\n",
              "</table>\n",
              "</div>\n",
              "      <button class=\"colab-df-convert\" onclick=\"convertToInteractive('df-c5d30088-61be-480b-b2b3-664f858ee0cc')\"\n",
              "              title=\"Convert this dataframe to an interactive table.\"\n",
              "              style=\"display:none;\">\n",
              "        \n",
              "  <svg xmlns=\"http://www.w3.org/2000/svg\" height=\"24px\"viewBox=\"0 0 24 24\"\n",
              "       width=\"24px\">\n",
              "    <path d=\"M0 0h24v24H0V0z\" fill=\"none\"/>\n",
              "    <path d=\"M18.56 5.44l.94 2.06.94-2.06 2.06-.94-2.06-.94-.94-2.06-.94 2.06-2.06.94zm-11 1L8.5 8.5l.94-2.06 2.06-.94-2.06-.94L8.5 2.5l-.94 2.06-2.06.94zm10 10l.94 2.06.94-2.06 2.06-.94-2.06-.94-.94-2.06-.94 2.06-2.06.94z\"/><path d=\"M17.41 7.96l-1.37-1.37c-.4-.4-.92-.59-1.43-.59-.52 0-1.04.2-1.43.59L10.3 9.45l-7.72 7.72c-.78.78-.78 2.05 0 2.83L4 21.41c.39.39.9.59 1.41.59.51 0 1.02-.2 1.41-.59l7.78-7.78 2.81-2.81c.8-.78.8-2.07 0-2.86zM5.41 20L4 18.59l7.72-7.72 1.47 1.35L5.41 20z\"/>\n",
              "  </svg>\n",
              "      </button>\n",
              "      \n",
              "  <style>\n",
              "    .colab-df-container {\n",
              "      display:flex;\n",
              "      flex-wrap:wrap;\n",
              "      gap: 12px;\n",
              "    }\n",
              "\n",
              "    .colab-df-convert {\n",
              "      background-color: #E8F0FE;\n",
              "      border: none;\n",
              "      border-radius: 50%;\n",
              "      cursor: pointer;\n",
              "      display: none;\n",
              "      fill: #1967D2;\n",
              "      height: 32px;\n",
              "      padding: 0 0 0 0;\n",
              "      width: 32px;\n",
              "    }\n",
              "\n",
              "    .colab-df-convert:hover {\n",
              "      background-color: #E2EBFA;\n",
              "      box-shadow: 0px 1px 2px rgba(60, 64, 67, 0.3), 0px 1px 3px 1px rgba(60, 64, 67, 0.15);\n",
              "      fill: #174EA6;\n",
              "    }\n",
              "\n",
              "    [theme=dark] .colab-df-convert {\n",
              "      background-color: #3B4455;\n",
              "      fill: #D2E3FC;\n",
              "    }\n",
              "\n",
              "    [theme=dark] .colab-df-convert:hover {\n",
              "      background-color: #434B5C;\n",
              "      box-shadow: 0px 1px 3px 1px rgba(0, 0, 0, 0.15);\n",
              "      filter: drop-shadow(0px 1px 2px rgba(0, 0, 0, 0.3));\n",
              "      fill: #FFFFFF;\n",
              "    }\n",
              "  </style>\n",
              "\n",
              "      <script>\n",
              "        const buttonEl =\n",
              "          document.querySelector('#df-c5d30088-61be-480b-b2b3-664f858ee0cc button.colab-df-convert');\n",
              "        buttonEl.style.display =\n",
              "          google.colab.kernel.accessAllowed ? 'block' : 'none';\n",
              "\n",
              "        async function convertToInteractive(key) {\n",
              "          const element = document.querySelector('#df-c5d30088-61be-480b-b2b3-664f858ee0cc');\n",
              "          const dataTable =\n",
              "            await google.colab.kernel.invokeFunction('convertToInteractive',\n",
              "                                                     [key], {});\n",
              "          if (!dataTable) return;\n",
              "\n",
              "          const docLinkHtml = 'Like what you see? Visit the ' +\n",
              "            '<a target=\"_blank\" href=https://colab.research.google.com/notebooks/data_table.ipynb>data table notebook</a>'\n",
              "            + ' to learn more about interactive tables.';\n",
              "          element.innerHTML = '';\n",
              "          dataTable['output_type'] = 'display_data';\n",
              "          await google.colab.output.renderOutput(dataTable, element);\n",
              "          const docLink = document.createElement('div');\n",
              "          docLink.innerHTML = docLinkHtml;\n",
              "          element.appendChild(docLink);\n",
              "        }\n",
              "      </script>\n",
              "    </div>\n",
              "  </div>\n",
              "  "
            ],
            "text/plain": [
              "          timestamp  x-axis  y-axis  z-axis  activity_cat  activity_Jogging  \\\n",
              "917    1.030000e+14   -0.99    9.43   -0.50             3                 0   \n",
              "27128  1.020000e+14    1.42   -0.04    9.66             2                 0   \n",
              "51299  5.240000e+12   -6.13   11.18   -7.55             5                 0   \n",
              "9943   1.130000e+14   -7.70    6.28    1.12             3                 0   \n",
              "24098  5.420000e+12   -0.15   -1.33    0.76             1                 1   \n",
              "\n",
              "       activity_Sitting  activity_Standing  activity_Upstairs  \\\n",
              "917                   0                  1                  0   \n",
              "27128                 1                  0                  0   \n",
              "51299                 0                  0                  0   \n",
              "9943                  0                  1                  0   \n",
              "24098                 0                  0                  0   \n",
              "\n",
              "       activity_Walking  \n",
              "917                   0  \n",
              "27128                 0  \n",
              "51299                 1  \n",
              "9943                  0  \n",
              "24098                 0  "
            ]
          },
          "execution_count": 10,
          "metadata": {},
          "output_type": "execute_result"
        }
      ],
      "source": [
        "data['activity'].unique()\n",
        "data = pd.get_dummies(data,columns = categorical,drop_first = True)\n",
        "data.head()"
      ]
    },
    {
      "cell_type": "markdown",
      "metadata": {
        "id": "n8hlYJl7JaiK"
      },
      "source": []
    },
    {
      "cell_type": "code",
      "execution_count": null,
      "metadata": {
        "colab": {
          "background_save": true
        },
        "id": "0bpuqkfDwLiT",
        "outputId": "012045f3-7db4-4ecb-8a5e-a1f55188cd60"
      },
      "outputs": [
        {
          "data": {
            "text/html": [
              "\n",
              "  <div id=\"df-9f4dc815-a3ae-48c5-a381-455ebd71895e\">\n",
              "    <div class=\"colab-df-container\">\n",
              "      <div>\n",
              "<style scoped>\n",
              "    .dataframe tbody tr th:only-of-type {\n",
              "        vertical-align: middle;\n",
              "    }\n",
              "\n",
              "    .dataframe tbody tr th {\n",
              "        vertical-align: top;\n",
              "    }\n",
              "\n",
              "    .dataframe thead th {\n",
              "        text-align: right;\n",
              "    }\n",
              "</style>\n",
              "<table border=\"1\" class=\"dataframe\">\n",
              "  <thead>\n",
              "    <tr style=\"text-align: right;\">\n",
              "      <th></th>\n",
              "      <th>timestamp</th>\n",
              "      <th>x-axis</th>\n",
              "      <th>y-axis</th>\n",
              "      <th>z-axis</th>\n",
              "      <th>activity_cat</th>\n",
              "      <th>activity_Jogging</th>\n",
              "      <th>activity_Sitting</th>\n",
              "      <th>activity_Standing</th>\n",
              "      <th>activity_Upstairs</th>\n",
              "      <th>activity_Walking</th>\n",
              "    </tr>\n",
              "  </thead>\n",
              "  <tbody>\n",
              "    <tr>\n",
              "      <th>917</th>\n",
              "      <td>1.030000e+14</td>\n",
              "      <td>-0.99</td>\n",
              "      <td>9.43</td>\n",
              "      <td>-0.500000</td>\n",
              "      <td>3</td>\n",
              "      <td>0</td>\n",
              "      <td>0</td>\n",
              "      <td>1</td>\n",
              "      <td>0</td>\n",
              "      <td>0</td>\n",
              "    </tr>\n",
              "    <tr>\n",
              "      <th>27128</th>\n",
              "      <td>1.020000e+14</td>\n",
              "      <td>1.42</td>\n",
              "      <td>-0.04</td>\n",
              "      <td>9.660000</td>\n",
              "      <td>2</td>\n",
              "      <td>0</td>\n",
              "      <td>1</td>\n",
              "      <td>0</td>\n",
              "      <td>0</td>\n",
              "      <td>0</td>\n",
              "    </tr>\n",
              "    <tr>\n",
              "      <th>51299</th>\n",
              "      <td>5.240000e+12</td>\n",
              "      <td>-6.13</td>\n",
              "      <td>11.18</td>\n",
              "      <td>-7.550000</td>\n",
              "      <td>5</td>\n",
              "      <td>0</td>\n",
              "      <td>0</td>\n",
              "      <td>0</td>\n",
              "      <td>0</td>\n",
              "      <td>1</td>\n",
              "    </tr>\n",
              "    <tr>\n",
              "      <th>9943</th>\n",
              "      <td>1.130000e+14</td>\n",
              "      <td>-7.70</td>\n",
              "      <td>6.28</td>\n",
              "      <td>1.120000</td>\n",
              "      <td>3</td>\n",
              "      <td>0</td>\n",
              "      <td>0</td>\n",
              "      <td>1</td>\n",
              "      <td>0</td>\n",
              "      <td>0</td>\n",
              "    </tr>\n",
              "    <tr>\n",
              "      <th>24098</th>\n",
              "      <td>5.420000e+12</td>\n",
              "      <td>-0.15</td>\n",
              "      <td>-1.33</td>\n",
              "      <td>0.760000</td>\n",
              "      <td>1</td>\n",
              "      <td>1</td>\n",
              "      <td>0</td>\n",
              "      <td>0</td>\n",
              "      <td>0</td>\n",
              "      <td>0</td>\n",
              "    </tr>\n",
              "    <tr>\n",
              "      <th>...</th>\n",
              "      <td>...</td>\n",
              "      <td>...</td>\n",
              "      <td>...</td>\n",
              "      <td>...</td>\n",
              "      <td>...</td>\n",
              "      <td>...</td>\n",
              "      <td>...</td>\n",
              "      <td>...</td>\n",
              "      <td>...</td>\n",
              "      <td>...</td>\n",
              "    </tr>\n",
              "    <tr>\n",
              "      <th>5108</th>\n",
              "      <td>2.090000e+14</td>\n",
              "      <td>-8.16</td>\n",
              "      <td>5.41</td>\n",
              "      <td>-0.420000</td>\n",
              "      <td>3</td>\n",
              "      <td>0</td>\n",
              "      <td>0</td>\n",
              "      <td>1</td>\n",
              "      <td>0</td>\n",
              "      <td>0</td>\n",
              "    </tr>\n",
              "    <tr>\n",
              "      <th>12439</th>\n",
              "      <td>6.870000e+12</td>\n",
              "      <td>5.63</td>\n",
              "      <td>11.07</td>\n",
              "      <td>-3.060000</td>\n",
              "      <td>0</td>\n",
              "      <td>0</td>\n",
              "      <td>0</td>\n",
              "      <td>0</td>\n",
              "      <td>0</td>\n",
              "      <td>0</td>\n",
              "    </tr>\n",
              "    <tr>\n",
              "      <th>29690</th>\n",
              "      <td>3.060000e+12</td>\n",
              "      <td>4.40</td>\n",
              "      <td>3.02</td>\n",
              "      <td>8.049625</td>\n",
              "      <td>2</td>\n",
              "      <td>0</td>\n",
              "      <td>1</td>\n",
              "      <td>0</td>\n",
              "      <td>0</td>\n",
              "      <td>0</td>\n",
              "    </tr>\n",
              "    <tr>\n",
              "      <th>29160</th>\n",
              "      <td>3.680000e+12</td>\n",
              "      <td>-7.44</td>\n",
              "      <td>-3.98</td>\n",
              "      <td>-4.990000</td>\n",
              "      <td>2</td>\n",
              "      <td>0</td>\n",
              "      <td>1</td>\n",
              "      <td>0</td>\n",
              "      <td>0</td>\n",
              "      <td>0</td>\n",
              "    </tr>\n",
              "    <tr>\n",
              "      <th>17035</th>\n",
              "      <td>3.370000e+12</td>\n",
              "      <td>4.29</td>\n",
              "      <td>11.84</td>\n",
              "      <td>0.890000</td>\n",
              "      <td>0</td>\n",
              "      <td>0</td>\n",
              "      <td>0</td>\n",
              "      <td>0</td>\n",
              "      <td>0</td>\n",
              "      <td>0</td>\n",
              "    </tr>\n",
              "  </tbody>\n",
              "</table>\n",
              "<p>40401 rows × 10 columns</p>\n",
              "</div>\n",
              "      <button class=\"colab-df-convert\" onclick=\"convertToInteractive('df-9f4dc815-a3ae-48c5-a381-455ebd71895e')\"\n",
              "              title=\"Convert this dataframe to an interactive table.\"\n",
              "              style=\"display:none;\">\n",
              "        \n",
              "  <svg xmlns=\"http://www.w3.org/2000/svg\" height=\"24px\"viewBox=\"0 0 24 24\"\n",
              "       width=\"24px\">\n",
              "    <path d=\"M0 0h24v24H0V0z\" fill=\"none\"/>\n",
              "    <path d=\"M18.56 5.44l.94 2.06.94-2.06 2.06-.94-2.06-.94-.94-2.06-.94 2.06-2.06.94zm-11 1L8.5 8.5l.94-2.06 2.06-.94-2.06-.94L8.5 2.5l-.94 2.06-2.06.94zm10 10l.94 2.06.94-2.06 2.06-.94-2.06-.94-.94-2.06-.94 2.06-2.06.94z\"/><path d=\"M17.41 7.96l-1.37-1.37c-.4-.4-.92-.59-1.43-.59-.52 0-1.04.2-1.43.59L10.3 9.45l-7.72 7.72c-.78.78-.78 2.05 0 2.83L4 21.41c.39.39.9.59 1.41.59.51 0 1.02-.2 1.41-.59l7.78-7.78 2.81-2.81c.8-.78.8-2.07 0-2.86zM5.41 20L4 18.59l7.72-7.72 1.47 1.35L5.41 20z\"/>\n",
              "  </svg>\n",
              "      </button>\n",
              "      \n",
              "  <style>\n",
              "    .colab-df-container {\n",
              "      display:flex;\n",
              "      flex-wrap:wrap;\n",
              "      gap: 12px;\n",
              "    }\n",
              "\n",
              "    .colab-df-convert {\n",
              "      background-color: #E8F0FE;\n",
              "      border: none;\n",
              "      border-radius: 50%;\n",
              "      cursor: pointer;\n",
              "      display: none;\n",
              "      fill: #1967D2;\n",
              "      height: 32px;\n",
              "      padding: 0 0 0 0;\n",
              "      width: 32px;\n",
              "    }\n",
              "\n",
              "    .colab-df-convert:hover {\n",
              "      background-color: #E2EBFA;\n",
              "      box-shadow: 0px 1px 2px rgba(60, 64, 67, 0.3), 0px 1px 3px 1px rgba(60, 64, 67, 0.15);\n",
              "      fill: #174EA6;\n",
              "    }\n",
              "\n",
              "    [theme=dark] .colab-df-convert {\n",
              "      background-color: #3B4455;\n",
              "      fill: #D2E3FC;\n",
              "    }\n",
              "\n",
              "    [theme=dark] .colab-df-convert:hover {\n",
              "      background-color: #434B5C;\n",
              "      box-shadow: 0px 1px 3px 1px rgba(0, 0, 0, 0.15);\n",
              "      filter: drop-shadow(0px 1px 2px rgba(0, 0, 0, 0.3));\n",
              "      fill: #FFFFFF;\n",
              "    }\n",
              "  </style>\n",
              "\n",
              "      <script>\n",
              "        const buttonEl =\n",
              "          document.querySelector('#df-9f4dc815-a3ae-48c5-a381-455ebd71895e button.colab-df-convert');\n",
              "        buttonEl.style.display =\n",
              "          google.colab.kernel.accessAllowed ? 'block' : 'none';\n",
              "\n",
              "        async function convertToInteractive(key) {\n",
              "          const element = document.querySelector('#df-9f4dc815-a3ae-48c5-a381-455ebd71895e');\n",
              "          const dataTable =\n",
              "            await google.colab.kernel.invokeFunction('convertToInteractive',\n",
              "                                                     [key], {});\n",
              "          if (!dataTable) return;\n",
              "\n",
              "          const docLinkHtml = 'Like what you see? Visit the ' +\n",
              "            '<a target=\"_blank\" href=https://colab.research.google.com/notebooks/data_table.ipynb>data table notebook</a>'\n",
              "            + ' to learn more about interactive tables.';\n",
              "          element.innerHTML = '';\n",
              "          dataTable['output_type'] = 'display_data';\n",
              "          await google.colab.output.renderOutput(dataTable, element);\n",
              "          const docLink = document.createElement('div');\n",
              "          docLink.innerHTML = docLinkHtml;\n",
              "          element.appendChild(docLink);\n",
              "        }\n",
              "      </script>\n",
              "    </div>\n",
              "  </div>\n",
              "  "
            ],
            "text/plain": [
              "          timestamp  x-axis  y-axis    z-axis  activity_cat  activity_Jogging  \\\n",
              "917    1.030000e+14   -0.99    9.43 -0.500000             3                 0   \n",
              "27128  1.020000e+14    1.42   -0.04  9.660000             2                 0   \n",
              "51299  5.240000e+12   -6.13   11.18 -7.550000             5                 0   \n",
              "9943   1.130000e+14   -7.70    6.28  1.120000             3                 0   \n",
              "24098  5.420000e+12   -0.15   -1.33  0.760000             1                 1   \n",
              "...             ...     ...     ...       ...           ...               ...   \n",
              "5108   2.090000e+14   -8.16    5.41 -0.420000             3                 0   \n",
              "12439  6.870000e+12    5.63   11.07 -3.060000             0                 0   \n",
              "29690  3.060000e+12    4.40    3.02  8.049625             2                 0   \n",
              "29160  3.680000e+12   -7.44   -3.98 -4.990000             2                 0   \n",
              "17035  3.370000e+12    4.29   11.84  0.890000             0                 0   \n",
              "\n",
              "       activity_Sitting  activity_Standing  activity_Upstairs  \\\n",
              "917                   0                  1                  0   \n",
              "27128                 1                  0                  0   \n",
              "51299                 0                  0                  0   \n",
              "9943                  0                  1                  0   \n",
              "24098                 0                  0                  0   \n",
              "...                 ...                ...                ...   \n",
              "5108                  0                  1                  0   \n",
              "12439                 0                  0                  0   \n",
              "29690                 1                  0                  0   \n",
              "29160                 1                  0                  0   \n",
              "17035                 0                  0                  0   \n",
              "\n",
              "       activity_Walking  \n",
              "917                   0  \n",
              "27128                 0  \n",
              "51299                 1  \n",
              "9943                  0  \n",
              "24098                 0  \n",
              "...                 ...  \n",
              "5108                  0  \n",
              "12439                 0  \n",
              "29690                 0  \n",
              "29160                 0  \n",
              "17035                 0  \n",
              "\n",
              "[40401 rows x 10 columns]"
            ]
          },
          "execution_count": 11,
          "metadata": {},
          "output_type": "execute_result"
        }
      ],
      "source": [
        "data"
      ]
    },
    {
      "cell_type": "code",
      "execution_count": null,
      "metadata": {
        "colab": {
          "background_save": true
        },
        "id": "nUH2JA-C-MOj"
      },
      "outputs": [],
      "source": [
        "\n",
        "X = data.drop(['activity_cat','activity_Jogging','activity_Sitting','activity_Standing','activity_Upstairs','activity_Walking'] , axis = 1)\n",
        "y = data['activity_cat']\n",
        "\n",
        "from sklearn.model_selection import train_test_split\n",
        "X_train,X_test,y_train,y_test = train_test_split(X,y,test_size = 0.3,random_state = 42)\n",
        "\n"
      ]
    },
    {
      "cell_type": "code",
      "execution_count": null,
      "metadata": {
        "colab": {
          "background_save": true
        },
        "id": "bsplB_9Ibdbj",
        "outputId": "33548704-f055-4162-f872-8bbf4462b549"
      },
      "outputs": [
        {
          "name": "stdout",
          "output_type": "stream",
          "text": [
            "          timestamp  x-axis  y-axis    z-axis\n",
            "917    1.030000e+14   -0.99    9.43 -0.500000\n",
            "27128  1.020000e+14    1.42   -0.04  9.660000\n",
            "51299  5.240000e+12   -6.13   11.18 -7.550000\n",
            "9943   1.130000e+14   -7.70    6.28  1.120000\n",
            "24098  5.420000e+12   -0.15   -1.33  0.760000\n",
            "...             ...     ...     ...       ...\n",
            "5108   2.090000e+14   -8.16    5.41 -0.420000\n",
            "12439  6.870000e+12    5.63   11.07 -3.060000\n",
            "29690  3.060000e+12    4.40    3.02  8.049625\n",
            "29160  3.680000e+12   -7.44   -3.98 -4.990000\n",
            "17035  3.370000e+12    4.29   11.84  0.890000\n",
            "\n",
            "[40401 rows x 4 columns]\n"
          ]
        }
      ],
      "source": [
        "print(X)"
      ]
    },
    {
      "cell_type": "code",
      "execution_count": null,
      "metadata": {
        "colab": {
          "background_save": true
        },
        "id": "w_mESLDEK9XP"
      },
      "outputs": [],
      "source": [
        "from sklearn.preprocessing import MinMaxScaler\n",
        "mm = MinMaxScaler()\n",
        "df_min_max_scale = data.copy()\n",
        "for column in data.columns:\n",
        "  data[column] = (df_min_max_scale[column] - df_min_max_scale[column].min())/(df_min_max_scale[column].max()-df_min_max_scale.min())"
      ]
    },
    {
      "cell_type": "code",
      "execution_count": null,
      "metadata": {
        "colab": {
          "background_save": true
        },
        "id": "mnh5sU3pE_ga"
      },
      "outputs": [],
      "source": [
        "from sklearn.preprocessing import StandardScaler\n",
        "st = StandardScaler()\n",
        "st.fit(X_train)\n",
        "X_train = st.fit_transform(X_train)\n",
        "X_test = st.fit_transform(X_test)\n"
      ]
    },
    {
      "cell_type": "code",
      "execution_count": null,
      "metadata": {
        "colab": {
          "background_save": true
        },
        "id": "abHS8_nqLoT0",
        "outputId": "846c016f-d527-415e-fd99-73e4068a71ce"
      },
      "outputs": [
        {
          "name": "stdout",
          "output_type": "stream",
          "text": [
            "[[ 2.47817359 -1.0378677  -0.16710197 -0.4568335 ]\n",
            " [-0.70960222  0.65210207 -0.25054213  0.72671639]\n",
            " [-0.70573732  0.82217155 -0.52968737  1.67203485]\n",
            " ...\n",
            " [ 0.83945276  0.61073381 -0.2095806   0.80657058]\n",
            " [ 2.47817359 -1.02101396 -0.16406779 -0.46624433]\n",
            " [-0.66956178  0.71798484  0.40029108  1.00655075]]\n"
          ]
        }
      ],
      "source": [
        "print(X_train)"
      ]
    },
    {
      "cell_type": "code",
      "execution_count": null,
      "metadata": {
        "colab": {
          "background_save": true
        },
        "id": "2r61213eLroX",
        "outputId": "260caae3-e948-40e0-a573-eaa9f56255a7"
      },
      "outputs": [
        {
          "name": "stdout",
          "output_type": "stream",
          "text": [
            "[[-0.63202346 -1.35697255  1.74323435 -0.05175612]\n",
            " [-0.65121447  2.73947523 -3.70943148 -0.91191703]\n",
            " [-0.63467588  1.62703122  0.11868942  1.15617875]\n",
            " ...\n",
            " [-0.68741214  0.90648843 -0.51661575  1.59136975]\n",
            " [-0.6788308  -0.74289111 -1.04233448 -2.09434847]\n",
            " [-0.65667533 -0.72437609  1.51517608 -2.12912587]]\n"
          ]
        }
      ],
      "source": [
        "print(X_test)"
      ]
    },
    {
      "cell_type": "code",
      "execution_count": null,
      "metadata": {
        "colab": {
          "background_save": true
        },
        "id": "Zk89u8lOFaW0"
      },
      "outputs": [],
      "source": [
        "y_train = y_train.astype(int)\n",
        "y_test = y_test.astype(int)\n"
      ]
    },
    {
      "cell_type": "code",
      "execution_count": null,
      "metadata": {
        "colab": {
          "background_save": true
        },
        "id": "zrzBXVpqttRX",
        "outputId": "4ec7afee-50ad-4019-8c58-b6eb15ba61e0"
      },
      "outputs": [
        {
          "name": "stdout",
          "output_type": "stream",
          "text": [
            "              precision    recall  f1-score   support\n",
            "\n",
            "           0       0.33      0.28      0.30      2901\n",
            "           1       0.53      0.63      0.58       941\n",
            "           2       0.69      0.64      0.66      1342\n",
            "           3       0.60      0.69      0.64      2010\n",
            "           4       0.35      0.31      0.33      2815\n",
            "           5       0.55      0.63      0.59      2112\n",
            "\n",
            "    accuracy                           0.48     12121\n",
            "   macro avg       0.51      0.53      0.52     12121\n",
            "weighted avg       0.47      0.48      0.48     12121\n",
            "\n"
          ]
        }
      ],
      "source": [
        "from sklearn.linear_model import LogisticRegression\n",
        "from sklearn.metrics import confusion_matrix,classification_report \n",
        "\n",
        "LR = LogisticRegression()\n",
        "LR.fit(X_train,y_train.ravel())\n",
        "pred = LR.predict(X_test)\n",
        "print(classification_report(y_test,pred))"
      ]
    },
    {
      "cell_type": "code",
      "execution_count": null,
      "metadata": {
        "colab": {
          "background_save": true
        },
        "id": "qUC7SJ3AZauq",
        "outputId": "b1d7d6e8-bc1e-4056-84d9-d33bf220cd9d"
      },
      "outputs": [
        {
          "name": "stdout",
          "output_type": "stream",
          "text": [
            "[0.6756043230756539, 0.6696642191238347, 0.6904545829552017, 0.6958996782443693, 0.7061298572725022, 0.7062948601600528, 0.7133899843247257, 0.7147925088689052, 0.7168550449632869, 0.7142149987624783, 0.7171850507383879, 0.7171850507383879, 0.7177625608448148, 0.7185050738387921, 0.7199075983829717, 0.7185050738387921, 0.719990099826747, 0.719990099826747, 0.7231251546902071, 0.7221351373649039, 0.7227126474713308, 0.7225476445837802, 0.7223826416962297, 0.7219701344773534, 0.7221351373649039, 0.7212276214833759, 0.7212276214833759, 0.7219701344773534, 0.7239501691279597, 0.7228776503588813, 0.7237026647966339, 0.7234551604653081, 0.7219701344773534, 0.7213101229271512, 0.722795148915106, 0.7213926243709264, 0.7227126474713308, 0.7204851084893986, 0.7195775926078707, 0.7186700767263428, 0.7216401287022522, 0.7199075983829717, 0.7196600940516459, 0.7204026070456233, 0.7208976157082749, 0.720320105601848, 0.7200726012705222, 0.7197425954954212, 0.7185050738387921]\n"
          ]
        }
      ],
      "source": [
        "from sklearn.neighbors import KNeighborsClassifier \n",
        "k_range = range(1,50)\n",
        "score=[]\n",
        "\n",
        "for k in k_range:\n",
        "  classifier= KNeighborsClassifier(n_neighbors=k, metric='minkowski', p=2 )  \n",
        "  classifier.fit(X_train, y_train) \n",
        "  y_pred = classifier.predict(X_test)\n",
        "  acc_score = accuracy_score(y_test,y_pred)\n",
        "  score.append(acc_score)\n",
        "\n",
        "print(score)  "
      ]
    },
    {
      "cell_type": "code",
      "execution_count": null,
      "metadata": {
        "colab": {
          "background_save": true
        },
        "id": "W5qu-O2rdM7x",
        "outputId": "571144ff-b7c4-4f5c-e810-7e215f0c6e08"
      },
      "outputs": [
        {
          "data": {
            "text/plain": [
              "Text(0, 0.5, 'Testing Accuracy')"
            ]
          },
          "execution_count": 21,
          "metadata": {},
          "output_type": "execute_result"
        },
        {
          "data": {
            "image/png": "[encoded data removed]",
            "text/plain": [
              "<Figure size 432x288 with 1 Axes>"
            ]
          },
          "metadata": {},
          "output_type": "display_data"
        }
      ],
      "source": [
        "import matplotlib.pyplot as plt\n",
        "\n",
        "%matplotlib inline\n",
        "\n",
        "\n",
        "plt.plot(k_range, score)\n",
        "plt.xlabel('Value of K for KNN')\n",
        "plt.ylabel('Testing Accuracy')"
      ]
    },
    {
      "cell_type": "code",
      "execution_count": null,
      "metadata": {
        "colab": {
          "background_save": true
        },
        "id": "vlb5DTjYZ5TA",
        "outputId": "a6361834-1d0a-4731-a254-79d656ec51c8"
      },
      "outputs": [
        {
          "name": "stdout",
          "output_type": "stream",
          "text": [
            "0.7185050738387921\n"
          ]
        }
      ],
      "source": [
        "from sklearn import metrics\n",
        "\n",
        "print(metrics.accuracy_score(y_test, y_pred))"
      ]
    },
    {
      "cell_type": "code",
      "execution_count": null,
      "metadata": {
        "colab": {
          "background_save": true
        },
        "id": "5JdyavVkF6A0",
        "outputId": "f921ab10-e77c-4906-96eb-9138fc2a36d4"
      },
      "outputs": [
        {
          "name": "stdout",
          "output_type": "stream",
          "text": [
            "0.6982097186700768\n"
          ]
        }
      ],
      "source": [
        "from sklearn  import svm\n",
        "model = svm.SVC()\n",
        "model.fit(X_train,y_train)\n",
        "y_pred = model.predict(X_test)\n",
        "acc = accuracy_score(y_test,y_pred)\n",
        "print(acc)"
      ]
    },
    {
      "cell_type": "code",
      "execution_count": null,
      "metadata": {
        "colab": {
          "background_save": true
        },
        "id": "UFxfSNLxVLMA",
        "outputId": "b8a127c4-b6fd-45c2-ae99-53011bebc7e2"
      },
      "outputs": [
        {
          "data": {
            "text/plain": [
              "GaussianNB()"
            ]
          },
          "execution_count": 24,
          "metadata": {},
          "output_type": "execute_result"
        }
      ],
      "source": [
        "from sklearn.naive_bayes import GaussianNB\n",
        "gnb = GaussianNB()\n",
        "gnb.fit(X_train, y_train)"
      ]
    },
    {
      "cell_type": "code",
      "execution_count": null,
      "metadata": {
        "colab": {
          "background_save": true
        },
        "id": "08AbDqZRXxvu",
        "outputId": "f88f1fea-9817-439f-c8b7-a8a9c4a6798c"
      },
      "outputs": [
        {
          "data": {
            "text/plain": [
              "array([4, 4, 0, ..., 0, 4, 4])"
            ]
          },
          "execution_count": 25,
          "metadata": {},
          "output_type": "execute_result"
        }
      ],
      "source": [
        "y_pred = gnb.predict(X_test)\n",
        "y_pred"
      ]
    },
    {
      "cell_type": "code",
      "execution_count": null,
      "metadata": {
        "colab": {
          "background_save": true
        },
        "id": "WHM7D5nuX0Rk",
        "outputId": "7ea58a30-06b9-4745-d736-e2e7f20c1285"
      },
      "outputs": [
        {
          "name": "stdout",
          "output_type": "stream",
          "text": [
            "Model accuracy score: 0.4148\n"
          ]
        }
      ],
      "source": [
        "from sklearn.metrics import accuracy_score\n",
        "print('Model accuracy score: {0:0.4f}'. format(accuracy_score(y_test, y_pred)))"
      ]
    },
    {
      "cell_type": "code",
      "execution_count": null,
      "metadata": {
        "colab": {
          "background_save": true
        },
        "id": "1hbgMxm8X1Eo",
        "outputId": "3a13db8f-d847-4e00-d428-c1d60a1bfe79"
      },
      "outputs": [
        {
          "name": "stdout",
          "output_type": "stream",
          "text": [
            "Training-set accuracy score: 0.6596\n"
          ]
        }
      ],
      "source": [
        "y_pred_train = gnb.predict(X_train)\n",
        "y_pred_train\n",
        "print('Training-set accuracy score: {0:0.4f}'. format(accuracy_score(y_train, y_pred_train)))"
      ]
    },
    {
      "cell_type": "code",
      "execution_count": null,
      "metadata": {
        "colab": {
          "background_save": true
        },
        "id": "ykShWJHAX6AT",
        "outputId": "87762a0b-0753-4b9a-891a-1a850d5dd0aa"
      },
      "outputs": [
        {
          "name": "stdout",
          "output_type": "stream",
          "text": [
            "Training set score: 0.6596\n",
            "Test set score: 0.4148\n"
          ]
        }
      ],
      "source": [
        "print('Training set score: {:.4f}'.format(gnb.score(X_train, y_train)))\n",
        "print('Test set score: {:.4f}'.format(gnb.score(X_test, y_test)))"
      ]
    },
    {
      "cell_type": "code",
      "source": [],
      "metadata": {
        "id": "3J6mQVWwakah"
      },
      "execution_count": null,
      "outputs": []
    }
  ],
  "metadata": {
    "accelerator": "GPU",
    "colab": {
      "provenance": []
    },
    "gpuClass": "standard",
    "kernelspec": {
      "display_name": "Python 3",
      "name": "python3"
    },
    "language_info": {
      "name": "python"
    }
  },
  "nbformat": 4,
  "nbformat_minor": 0
}