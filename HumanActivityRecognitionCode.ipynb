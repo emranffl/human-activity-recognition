{
  "cells": [
    {
      "cell_type": "code",
      "execution_count": null,
      "metadata": {
        "id": "XfjW86aviKvt"
      },
      "outputs": [],
      "source": [
        "import numpy as np\n",
        "import pandas as pd\n",
        "from sklearn.svm import SVC\n",
        "from sklearn.linear_model import LogisticRegression\n",
        "from sklearn.neighbors import KNeighborsClassifier\n",
        "from sklearn.ensemble import RandomForestClassifier\n",
        "from sklearn.tree import DecisionTreeClassifier\n",
        "\n",
        "from sklearn import metrics"
      ]
    },
    {
      "cell_type": "code",
      "execution_count": null,
      "metadata": {
        "id": "C7rhICCMiVpA"
      },
      "outputs": [],
      "source": [
        "data = pd.read_csv('/content/445.csv')\n",
        "data = data.sample(frac = 1)\n",
        "data.isnull().sum()\n",
        "data.drop('user', inplace=True, axis=1)\n"
      ]
    },
    {
      "cell_type": "code",
      "execution_count": null,
      "metadata": {
        "colab": {
          "base_uri": "https://localhost:8080/"
        },
        "id": "0sRPbaJMMAl5",
        "outputId": "0f0454fe-3dcc-491f-ce04-6bd8c259876e"
      },
      "outputs": [
        {
          "name": "stdout",
          "output_type": "stream",
          "text": [
            "         activity     timestamp  x-axis  y-axis  z-axis\n",
            "52610     Walking  5.300000e+12   -2.18    1.38   -0.72\n",
            "11464  Downstairs  6.760000e+12    3.91    8.62    0.00\n",
            "20481     Jogging  5.400000e+12  -14.48  -13.21    3.30\n",
            "4674     Standing  5.900000e+13    2.15    9.43    2.56\n",
            "33054     Sitting  2.090000e+14   -6.13   -3.41    7.08\n",
            "...           ...           ...     ...     ...     ...\n",
            "13076  Downstairs  1.030000e+14    9.28    4.60    2.41\n",
            "33138     Sitting  2.090000e+14   -6.44   -3.57    6.78\n",
            "26535     Sitting  1.020000e+14    1.42    0.27    9.66\n",
            "35049     Sitting  2.090000e+14   -6.63   -3.26    6.78\n",
            "42753    Upstairs  1.030000e+14   -1.42   -0.76   -1.46\n",
            "\n",
            "[59994 rows x 5 columns]\n"
          ]
        }
      ],
      "source": [
        "print(data)"
      ]
    },
    {
      "cell_type": "code",
      "execution_count": null,
      "metadata": {
        "colab": {
          "base_uri": "https://localhost:8080/"
        },
        "id": "px2CbOj-oPIT",
        "outputId": "925d80fa-d89c-4a75-f331-7a8c240a8930"
      },
      "outputs": [
        {
          "name": "stdout",
          "output_type": "stream",
          "text": [
            "True\n"
          ]
        }
      ],
      "source": [
        "data_dup = data.duplicated().any()\n",
        "data = data.drop_duplicates()\n",
        "print(data_dup)"
      ]
    },
    {
      "cell_type": "code",
      "execution_count": null,
      "metadata": {
        "id": "NdwMfpZcoqri"
      },
      "outputs": [],
      "source": [
        "categorical=[]\n",
        "numerical=[]\n",
        "\n",
        "\n",
        "for column in data.columns:\n",
        "  if data[column].nunique()<=10 :\n",
        "    categorical.append(column)\n",
        "  else:\n",
        "    numerical.append(column)\n",
        "\n",
        "\n",
        "\n"
      ]
    },
    {
      "cell_type": "code",
      "execution_count": null,
      "metadata": {
        "colab": {
          "base_uri": "https://localhost:8080/"
        },
        "id": "uBEcnOfW_dUU",
        "outputId": "253d4ebd-6cdc-4227-b918-fc9fa2c9957c"
      },
      "outputs": [
        {
          "name": "stderr",
          "output_type": "stream",
          "text": [
            "<ipython-input-270-48244c6bce6a>:3: SettingWithCopyWarning: \n",
            "A value is trying to be set on a copy of a slice from a DataFrame.\n",
            "Try using .loc[row_indexer,col_indexer] = value instead\n",
            "\n",
            "See the caveats in the documentation: https://pandas.pydata.org/pandas-docs/stable/user_guide/indexing.html#returning-a-view-versus-a-copy\n",
            "  data['activity_cat'] = LE.fit_transform(data['activity'])\n"
          ]
        }
      ],
      "source": [
        "from sklearn.preprocessing import LabelEncoder\n",
        "LE = LabelEncoder()\n",
        "data['activity_cat'] = LE.fit_transform(data['activity'])\n",
        "\n"
      ]
    },
    {
      "cell_type": "code",
      "execution_count": null,
      "metadata": {
        "colab": {
          "base_uri": "https://localhost:8080/",
          "height": 288
        },
        "id": "B47BuLdNqufy",
        "outputId": "04daeb9d-d140-4702-d0f3-a2fb58549cd1"
      },
      "outputs": [
        {
          "data": {
            "text/html": [
              "\n",
              "  <div id=\"df-82eacce2-0019-4940-abcd-0ddc6c2e75cd\">\n",
              "    <div class=\"colab-df-container\">\n",
              "      <div>\n",
              "<style scoped>\n",
              "    .dataframe tbody tr th:only-of-type {\n",
              "        vertical-align: middle;\n",
              "    }\n",
              "\n",
              "    .dataframe tbody tr th {\n",
              "        vertical-align: top;\n",
              "    }\n",
              "\n",
              "    .dataframe thead th {\n",
              "        text-align: right;\n",
              "    }\n",
              "</style>\n",
              "<table border=\"1\" class=\"dataframe\">\n",
              "  <thead>\n",
              "    <tr style=\"text-align: right;\">\n",
              "      <th></th>\n",
              "      <th>timestamp</th>\n",
              "      <th>x-axis</th>\n",
              "      <th>y-axis</th>\n",
              "      <th>z-axis</th>\n",
              "      <th>activity_cat</th>\n",
              "      <th>activity_Jogging</th>\n",
              "      <th>activity_Sitting</th>\n",
              "      <th>activity_Standing</th>\n",
              "      <th>activity_Upstairs</th>\n",
              "      <th>activity_Walking</th>\n",
              "    </tr>\n",
              "  </thead>\n",
              "  <tbody>\n",
              "    <tr>\n",
              "      <th>52610</th>\n",
              "      <td>5.300000e+12</td>\n",
              "      <td>-2.18</td>\n",
              "      <td>1.38</td>\n",
              "      <td>-0.72</td>\n",
              "      <td>5</td>\n",
              "      <td>0</td>\n",
              "      <td>0</td>\n",
              "      <td>0</td>\n",
              "      <td>0</td>\n",
              "      <td>1</td>\n",
              "    </tr>\n",
              "    <tr>\n",
              "      <th>11464</th>\n",
              "      <td>6.760000e+12</td>\n",
              "      <td>3.91</td>\n",
              "      <td>8.62</td>\n",
              "      <td>0.00</td>\n",
              "      <td>0</td>\n",
              "      <td>0</td>\n",
              "      <td>0</td>\n",
              "      <td>0</td>\n",
              "      <td>0</td>\n",
              "      <td>0</td>\n",
              "    </tr>\n",
              "    <tr>\n",
              "      <th>20481</th>\n",
              "      <td>5.400000e+12</td>\n",
              "      <td>-14.48</td>\n",
              "      <td>-13.21</td>\n",
              "      <td>3.30</td>\n",
              "      <td>1</td>\n",
              "      <td>1</td>\n",
              "      <td>0</td>\n",
              "      <td>0</td>\n",
              "      <td>0</td>\n",
              "      <td>0</td>\n",
              "    </tr>\n",
              "    <tr>\n",
              "      <th>4674</th>\n",
              "      <td>5.900000e+13</td>\n",
              "      <td>2.15</td>\n",
              "      <td>9.43</td>\n",
              "      <td>2.56</td>\n",
              "      <td>3</td>\n",
              "      <td>0</td>\n",
              "      <td>0</td>\n",
              "      <td>1</td>\n",
              "      <td>0</td>\n",
              "      <td>0</td>\n",
              "    </tr>\n",
              "    <tr>\n",
              "      <th>33054</th>\n",
              "      <td>2.090000e+14</td>\n",
              "      <td>-6.13</td>\n",
              "      <td>-3.41</td>\n",
              "      <td>7.08</td>\n",
              "      <td>2</td>\n",
              "      <td>0</td>\n",
              "      <td>1</td>\n",
              "      <td>0</td>\n",
              "      <td>0</td>\n",
              "      <td>0</td>\n",
              "    </tr>\n",
              "  </tbody>\n",
              "</table>\n",
              "</div>\n",
              "      <button class=\"colab-df-convert\" onclick=\"convertToInteractive('df-82eacce2-0019-4940-abcd-0ddc6c2e75cd')\"\n",
              "              title=\"Convert this dataframe to an interactive table.\"\n",
              "              style=\"display:none;\">\n",
              "        \n",
              "  <svg xmlns=\"http://www.w3.org/2000/svg\" height=\"24px\"viewBox=\"0 0 24 24\"\n",
              "       width=\"24px\">\n",
              "    <path d=\"M0 0h24v24H0V0z\" fill=\"none\"/>\n",
              "    <path d=\"M18.56 5.44l.94 2.06.94-2.06 2.06-.94-2.06-.94-.94-2.06-.94 2.06-2.06.94zm-11 1L8.5 8.5l.94-2.06 2.06-.94-2.06-.94L8.5 2.5l-.94 2.06-2.06.94zm10 10l.94 2.06.94-2.06 2.06-.94-2.06-.94-.94-2.06-.94 2.06-2.06.94z\"/><path d=\"M17.41 7.96l-1.37-1.37c-.4-.4-.92-.59-1.43-.59-.52 0-1.04.2-1.43.59L10.3 9.45l-7.72 7.72c-.78.78-.78 2.05 0 2.83L4 21.41c.39.39.9.59 1.41.59.51 0 1.02-.2 1.41-.59l7.78-7.78 2.81-2.81c.8-.78.8-2.07 0-2.86zM5.41 20L4 18.59l7.72-7.72 1.47 1.35L5.41 20z\"/>\n",
              "  </svg>\n",
              "      </button>\n",
              "      \n",
              "  <style>\n",
              "    .colab-df-container {\n",
              "      display:flex;\n",
              "      flex-wrap:wrap;\n",
              "      gap: 12px;\n",
              "    }\n",
              "\n",
              "    .colab-df-convert {\n",
              "      background-color: #E8F0FE;\n",
              "      border: none;\n",
              "      border-radius: 50%;\n",
              "      cursor: pointer;\n",
              "      display: none;\n",
              "      fill: #1967D2;\n",
              "      height: 32px;\n",
              "      padding: 0 0 0 0;\n",
              "      width: 32px;\n",
              "    }\n",
              "\n",
              "    .colab-df-convert:hover {\n",
              "      background-color: #E2EBFA;\n",
              "      box-shadow: 0px 1px 2px rgba(60, 64, 67, 0.3), 0px 1px 3px 1px rgba(60, 64, 67, 0.15);\n",
              "      fill: #174EA6;\n",
              "    }\n",
              "\n",
              "    [theme=dark] .colab-df-convert {\n",
              "      background-color: #3B4455;\n",
              "      fill: #D2E3FC;\n",
              "    }\n",
              "\n",
              "    [theme=dark] .colab-df-convert:hover {\n",
              "      background-color: #434B5C;\n",
              "      box-shadow: 0px 1px 3px 1px rgba(0, 0, 0, 0.15);\n",
              "      filter: drop-shadow(0px 1px 2px rgba(0, 0, 0, 0.3));\n",
              "      fill: #FFFFFF;\n",
              "    }\n",
              "  </style>\n",
              "\n",
              "      <script>\n",
              "        const buttonEl =\n",
              "          document.querySelector('#df-82eacce2-0019-4940-abcd-0ddc6c2e75cd button.colab-df-convert');\n",
              "        buttonEl.style.display =\n",
              "          google.colab.kernel.accessAllowed ? 'block' : 'none';\n",
              "\n",
              "        async function convertToInteractive(key) {\n",
              "          const element = document.querySelector('#df-82eacce2-0019-4940-abcd-0ddc6c2e75cd');\n",
              "          const dataTable =\n",
              "            await google.colab.kernel.invokeFunction('convertToInteractive',\n",
              "                                                     [key], {});\n",
              "          if (!dataTable) return;\n",
              "\n",
              "          const docLinkHtml = 'Like what you see? Visit the ' +\n",
              "            '<a target=\"_blank\" href=https://colab.research.google.com/notebooks/data_table.ipynb>data table notebook</a>'\n",
              "            + ' to learn more about interactive tables.';\n",
              "          element.innerHTML = '';\n",
              "          dataTable['output_type'] = 'display_data';\n",
              "          await google.colab.output.renderOutput(dataTable, element);\n",
              "          const docLink = document.createElement('div');\n",
              "          docLink.innerHTML = docLinkHtml;\n",
              "          element.appendChild(docLink);\n",
              "        }\n",
              "      </script>\n",
              "    </div>\n",
              "  </div>\n",
              "  "
            ],
            "text/plain": [
              "          timestamp  x-axis  y-axis  z-axis  activity_cat  activity_Jogging  \\\n",
              "52610  5.300000e+12   -2.18    1.38   -0.72             5                 0   \n",
              "11464  6.760000e+12    3.91    8.62    0.00             0                 0   \n",
              "20481  5.400000e+12  -14.48  -13.21    3.30             1                 1   \n",
              "4674   5.900000e+13    2.15    9.43    2.56             3                 0   \n",
              "33054  2.090000e+14   -6.13   -3.41    7.08             2                 0   \n",
              "\n",
              "       activity_Sitting  activity_Standing  activity_Upstairs  \\\n",
              "52610                 0                  0                  0   \n",
              "11464                 0                  0                  0   \n",
              "20481                 0                  0                  0   \n",
              "4674                  0                  1                  0   \n",
              "33054                 1                  0                  0   \n",
              "\n",
              "       activity_Walking  \n",
              "52610                 1  \n",
              "11464                 0  \n",
              "20481                 0  \n",
              "4674                  0  \n",
              "33054                 0  "
            ]
          },
          "execution_count": 271,
          "metadata": {},
          "output_type": "execute_result"
        }
      ],
      "source": [
        "data['activity'].unique()\n",
        "data = pd.get_dummies(data,columns = categorical,drop_first = True)\n",
        "data.head()"
      ]
    },
    {
      "cell_type": "markdown",
      "metadata": {
        "id": "n8hlYJl7JaiK"
      },
      "source": []
    },
    {
      "cell_type": "code",
      "execution_count": null,
      "metadata": {
        "colab": {
          "base_uri": "https://localhost:8080/",
          "height": 505
        },
        "id": "0bpuqkfDwLiT",
        "outputId": "065c0d42-a9a4-440a-ec77-48d0f494c4ff"
      },
      "outputs": [
        {
          "data": {
            "text/html": [
              "\n",
              "  <div id=\"df-79c635bd-fee2-40b4-a11a-47b6686af7eb\">\n",
              "    <div class=\"colab-df-container\">\n",
              "      <div>\n",
              "<style scoped>\n",
              "    .dataframe tbody tr th:only-of-type {\n",
              "        vertical-align: middle;\n",
              "    }\n",
              "\n",
              "    .dataframe tbody tr th {\n",
              "        vertical-align: top;\n",
              "    }\n",
              "\n",
              "    .dataframe thead th {\n",
              "        text-align: right;\n",
              "    }\n",
              "</style>\n",
              "<table border=\"1\" class=\"dataframe\">\n",
              "  <thead>\n",
              "    <tr style=\"text-align: right;\">\n",
              "      <th></th>\n",
              "      <th>timestamp</th>\n",
              "      <th>x-axis</th>\n",
              "      <th>y-axis</th>\n",
              "      <th>z-axis</th>\n",
              "      <th>activity_cat</th>\n",
              "      <th>activity_Jogging</th>\n",
              "      <th>activity_Sitting</th>\n",
              "      <th>activity_Standing</th>\n",
              "      <th>activity_Upstairs</th>\n",
              "      <th>activity_Walking</th>\n",
              "    </tr>\n",
              "  </thead>\n",
              "  <tbody>\n",
              "    <tr>\n",
              "      <th>52610</th>\n",
              "      <td>5.300000e+12</td>\n",
              "      <td>-2.18</td>\n",
              "      <td>1.38</td>\n",
              "      <td>-0.720000</td>\n",
              "      <td>5</td>\n",
              "      <td>0</td>\n",
              "      <td>0</td>\n",
              "      <td>0</td>\n",
              "      <td>0</td>\n",
              "      <td>1</td>\n",
              "    </tr>\n",
              "    <tr>\n",
              "      <th>11464</th>\n",
              "      <td>6.760000e+12</td>\n",
              "      <td>3.91</td>\n",
              "      <td>8.62</td>\n",
              "      <td>0.000000</td>\n",
              "      <td>0</td>\n",
              "      <td>0</td>\n",
              "      <td>0</td>\n",
              "      <td>0</td>\n",
              "      <td>0</td>\n",
              "      <td>0</td>\n",
              "    </tr>\n",
              "    <tr>\n",
              "      <th>20481</th>\n",
              "      <td>5.400000e+12</td>\n",
              "      <td>-14.48</td>\n",
              "      <td>-13.21</td>\n",
              "      <td>3.300000</td>\n",
              "      <td>1</td>\n",
              "      <td>1</td>\n",
              "      <td>0</td>\n",
              "      <td>0</td>\n",
              "      <td>0</td>\n",
              "      <td>0</td>\n",
              "    </tr>\n",
              "    <tr>\n",
              "      <th>4674</th>\n",
              "      <td>5.900000e+13</td>\n",
              "      <td>2.15</td>\n",
              "      <td>9.43</td>\n",
              "      <td>2.560000</td>\n",
              "      <td>3</td>\n",
              "      <td>0</td>\n",
              "      <td>0</td>\n",
              "      <td>1</td>\n",
              "      <td>0</td>\n",
              "      <td>0</td>\n",
              "    </tr>\n",
              "    <tr>\n",
              "      <th>33054</th>\n",
              "      <td>2.090000e+14</td>\n",
              "      <td>-6.13</td>\n",
              "      <td>-3.41</td>\n",
              "      <td>7.080000</td>\n",
              "      <td>2</td>\n",
              "      <td>0</td>\n",
              "      <td>1</td>\n",
              "      <td>0</td>\n",
              "      <td>0</td>\n",
              "      <td>0</td>\n",
              "    </tr>\n",
              "    <tr>\n",
              "      <th>...</th>\n",
              "      <td>...</td>\n",
              "      <td>...</td>\n",
              "      <td>...</td>\n",
              "      <td>...</td>\n",
              "      <td>...</td>\n",
              "      <td>...</td>\n",
              "      <td>...</td>\n",
              "      <td>...</td>\n",
              "      <td>...</td>\n",
              "      <td>...</td>\n",
              "    </tr>\n",
              "    <tr>\n",
              "      <th>38461</th>\n",
              "      <td>6.730000e+12</td>\n",
              "      <td>-6.97</td>\n",
              "      <td>-5.33</td>\n",
              "      <td>4.060000</td>\n",
              "      <td>4</td>\n",
              "      <td>0</td>\n",
              "      <td>0</td>\n",
              "      <td>0</td>\n",
              "      <td>1</td>\n",
              "      <td>0</td>\n",
              "    </tr>\n",
              "    <tr>\n",
              "      <th>3302</th>\n",
              "      <td>3.170000e+12</td>\n",
              "      <td>-1.46</td>\n",
              "      <td>9.58</td>\n",
              "      <td>0.953424</td>\n",
              "      <td>3</td>\n",
              "      <td>0</td>\n",
              "      <td>0</td>\n",
              "      <td>1</td>\n",
              "      <td>0</td>\n",
              "      <td>0</td>\n",
              "    </tr>\n",
              "    <tr>\n",
              "      <th>13076</th>\n",
              "      <td>1.030000e+14</td>\n",
              "      <td>9.28</td>\n",
              "      <td>4.60</td>\n",
              "      <td>2.410000</td>\n",
              "      <td>0</td>\n",
              "      <td>0</td>\n",
              "      <td>0</td>\n",
              "      <td>0</td>\n",
              "      <td>0</td>\n",
              "      <td>0</td>\n",
              "    </tr>\n",
              "    <tr>\n",
              "      <th>33138</th>\n",
              "      <td>2.090000e+14</td>\n",
              "      <td>-6.44</td>\n",
              "      <td>-3.57</td>\n",
              "      <td>6.780000</td>\n",
              "      <td>2</td>\n",
              "      <td>0</td>\n",
              "      <td>1</td>\n",
              "      <td>0</td>\n",
              "      <td>0</td>\n",
              "      <td>0</td>\n",
              "    </tr>\n",
              "    <tr>\n",
              "      <th>42753</th>\n",
              "      <td>1.030000e+14</td>\n",
              "      <td>-1.42</td>\n",
              "      <td>-0.76</td>\n",
              "      <td>-1.460000</td>\n",
              "      <td>4</td>\n",
              "      <td>0</td>\n",
              "      <td>0</td>\n",
              "      <td>0</td>\n",
              "      <td>1</td>\n",
              "      <td>0</td>\n",
              "    </tr>\n",
              "  </tbody>\n",
              "</table>\n",
              "<p>40401 rows × 10 columns</p>\n",
              "</div>\n",
              "      <button class=\"colab-df-convert\" onclick=\"convertToInteractive('df-79c635bd-fee2-40b4-a11a-47b6686af7eb')\"\n",
              "              title=\"Convert this dataframe to an interactive table.\"\n",
              "              style=\"display:none;\">\n",
              "        \n",
              "  <svg xmlns=\"http://www.w3.org/2000/svg\" height=\"24px\"viewBox=\"0 0 24 24\"\n",
              "       width=\"24px\">\n",
              "    <path d=\"M0 0h24v24H0V0z\" fill=\"none\"/>\n",
              "    <path d=\"M18.56 5.44l.94 2.06.94-2.06 2.06-.94-2.06-.94-.94-2.06-.94 2.06-2.06.94zm-11 1L8.5 8.5l.94-2.06 2.06-.94-2.06-.94L8.5 2.5l-.94 2.06-2.06.94zm10 10l.94 2.06.94-2.06 2.06-.94-2.06-.94-.94-2.06-.94 2.06-2.06.94z\"/><path d=\"M17.41 7.96l-1.37-1.37c-.4-.4-.92-.59-1.43-.59-.52 0-1.04.2-1.43.59L10.3 9.45l-7.72 7.72c-.78.78-.78 2.05 0 2.83L4 21.41c.39.39.9.59 1.41.59.51 0 1.02-.2 1.41-.59l7.78-7.78 2.81-2.81c.8-.78.8-2.07 0-2.86zM5.41 20L4 18.59l7.72-7.72 1.47 1.35L5.41 20z\"/>\n",
              "  </svg>\n",
              "      </button>\n",
              "      \n",
              "  <style>\n",
              "    .colab-df-container {\n",
              "      display:flex;\n",
              "      flex-wrap:wrap;\n",
              "      gap: 12px;\n",
              "    }\n",
              "\n",
              "    .colab-df-convert {\n",
              "      background-color: #E8F0FE;\n",
              "      border: none;\n",
              "      border-radius: 50%;\n",
              "      cursor: pointer;\n",
              "      display: none;\n",
              "      fill: #1967D2;\n",
              "      height: 32px;\n",
              "      padding: 0 0 0 0;\n",
              "      width: 32px;\n",
              "    }\n",
              "\n",
              "    .colab-df-convert:hover {\n",
              "      background-color: #E2EBFA;\n",
              "      box-shadow: 0px 1px 2px rgba(60, 64, 67, 0.3), 0px 1px 3px 1px rgba(60, 64, 67, 0.15);\n",
              "      fill: #174EA6;\n",
              "    }\n",
              "\n",
              "    [theme=dark] .colab-df-convert {\n",
              "      background-color: #3B4455;\n",
              "      fill: #D2E3FC;\n",
              "    }\n",
              "\n",
              "    [theme=dark] .colab-df-convert:hover {\n",
              "      background-color: #434B5C;\n",
              "      box-shadow: 0px 1px 3px 1px rgba(0, 0, 0, 0.15);\n",
              "      filter: drop-shadow(0px 1px 2px rgba(0, 0, 0, 0.3));\n",
              "      fill: #FFFFFF;\n",
              "    }\n",
              "  </style>\n",
              "\n",
              "      <script>\n",
              "        const buttonEl =\n",
              "          document.querySelector('#df-79c635bd-fee2-40b4-a11a-47b6686af7eb button.colab-df-convert');\n",
              "        buttonEl.style.display =\n",
              "          google.colab.kernel.accessAllowed ? 'block' : 'none';\n",
              "\n",
              "        async function convertToInteractive(key) {\n",
              "          const element = document.querySelector('#df-79c635bd-fee2-40b4-a11a-47b6686af7eb');\n",
              "          const dataTable =\n",
              "            await google.colab.kernel.invokeFunction('convertToInteractive',\n",
              "                                                     [key], {});\n",
              "          if (!dataTable) return;\n",
              "\n",
              "          const docLinkHtml = 'Like what you see? Visit the ' +\n",
              "            '<a target=\"_blank\" href=https://colab.research.google.com/notebooks/data_table.ipynb>data table notebook</a>'\n",
              "            + ' to learn more about interactive tables.';\n",
              "          element.innerHTML = '';\n",
              "          dataTable['output_type'] = 'display_data';\n",
              "          await google.colab.output.renderOutput(dataTable, element);\n",
              "          const docLink = document.createElement('div');\n",
              "          docLink.innerHTML = docLinkHtml;\n",
              "          element.appendChild(docLink);\n",
              "        }\n",
              "      </script>\n",
              "    </div>\n",
              "  </div>\n",
              "  "
            ],
            "text/plain": [
              "          timestamp  x-axis  y-axis    z-axis  activity_cat  activity_Jogging  \\\n",
              "52610  5.300000e+12   -2.18    1.38 -0.720000             5                 0   \n",
              "11464  6.760000e+12    3.91    8.62  0.000000             0                 0   \n",
              "20481  5.400000e+12  -14.48  -13.21  3.300000             1                 1   \n",
              "4674   5.900000e+13    2.15    9.43  2.560000             3                 0   \n",
              "33054  2.090000e+14   -6.13   -3.41  7.080000             2                 0   \n",
              "...             ...     ...     ...       ...           ...               ...   \n",
              "38461  6.730000e+12   -6.97   -5.33  4.060000             4                 0   \n",
              "3302   3.170000e+12   -1.46    9.58  0.953424             3                 0   \n",
              "13076  1.030000e+14    9.28    4.60  2.410000             0                 0   \n",
              "33138  2.090000e+14   -6.44   -3.57  6.780000             2                 0   \n",
              "42753  1.030000e+14   -1.42   -0.76 -1.460000             4                 0   \n",
              "\n",
              "       activity_Sitting  activity_Standing  activity_Upstairs  \\\n",
              "52610                 0                  0                  0   \n",
              "11464                 0                  0                  0   \n",
              "20481                 0                  0                  0   \n",
              "4674                  0                  1                  0   \n",
              "33054                 1                  0                  0   \n",
              "...                 ...                ...                ...   \n",
              "38461                 0                  0                  1   \n",
              "3302                  0                  1                  0   \n",
              "13076                 0                  0                  0   \n",
              "33138                 1                  0                  0   \n",
              "42753                 0                  0                  1   \n",
              "\n",
              "       activity_Walking  \n",
              "52610                 1  \n",
              "11464                 0  \n",
              "20481                 0  \n",
              "4674                  0  \n",
              "33054                 0  \n",
              "...                 ...  \n",
              "38461                 0  \n",
              "3302                  0  \n",
              "13076                 0  \n",
              "33138                 0  \n",
              "42753                 0  \n",
              "\n",
              "[40401 rows x 10 columns]"
            ]
          },
          "execution_count": 272,
          "metadata": {},
          "output_type": "execute_result"
        }
      ],
      "source": [
        "data"
      ]
    },
    {
      "cell_type": "code",
      "execution_count": null,
      "metadata": {
        "id": "nUH2JA-C-MOj"
      },
      "outputs": [],
      "source": [
        "\n",
        "X = data.drop(['activity_cat','activity_Jogging','activity_Sitting','activity_Standing','activity_Upstairs','activity_Walking'] , axis = 1)\n",
        "y = data['activity_cat']\n",
        "\n",
        "from sklearn.model_selection import train_test_split\n",
        "X_train,X_test,y_train,y_test = train_test_split(X,y,test_size = 0.3,random_state = 42)\n",
        "\n"
      ]
    },
    {
      "cell_type": "code",
      "execution_count": null,
      "metadata": {
        "colab": {
          "base_uri": "https://localhost:8080/"
        },
        "id": "bsplB_9Ibdbj",
        "outputId": "80c1b016-ed88-4dec-b749-b2a6582847f4"
      },
      "outputs": [
        {
          "name": "stdout",
          "output_type": "stream",
          "text": [
            "          timestamp  x-axis  y-axis    z-axis\n",
            "52610  5.300000e+12   -2.18    1.38 -0.720000\n",
            "11464  6.760000e+12    3.91    8.62  0.000000\n",
            "20481  5.400000e+12  -14.48  -13.21  3.300000\n",
            "4674   5.900000e+13    2.15    9.43  2.560000\n",
            "33054  2.090000e+14   -6.13   -3.41  7.080000\n",
            "...             ...     ...     ...       ...\n",
            "38461  6.730000e+12   -6.97   -5.33  4.060000\n",
            "3302   3.170000e+12   -1.46    9.58  0.953424\n",
            "13076  1.030000e+14    9.28    4.60  2.410000\n",
            "33138  2.090000e+14   -6.44   -3.57  6.780000\n",
            "42753  1.030000e+14   -1.42   -0.76 -1.460000\n",
            "\n",
            "[40401 rows x 4 columns]\n"
          ]
        }
      ],
      "source": [
        "print(X)"
      ]
    },
    {
      "cell_type": "code",
      "execution_count": null,
      "metadata": {
        "id": "w_mESLDEK9XP"
      },
      "outputs": [],
      "source": [
        "from sklearn.preprocessing import MinMaxScaler\n",
        "mm = MinMaxScaler()\n",
        "df_min_max_scale = data.copy()\n",
        "for column in data.columns:\n",
        "  data[column] = (df_min_max_scale[column] - df_min_max_scale[column].min())/(df_min_max_scale[column].max()-df_min_max_scale.min())"
      ]
    },
    {
      "cell_type": "code",
      "execution_count": null,
      "metadata": {
        "id": "mnh5sU3pE_ga"
      },
      "outputs": [],
      "source": [
        "from sklearn.preprocessing import StandardScaler\n",
        "st = StandardScaler()\n",
        "st.fit(X_train)\n",
        "X_train = st.fit_transform(X_train)\n",
        "X_test = st.fit_transform(X_test)\n"
      ]
    },
    {
      "cell_type": "code",
      "execution_count": null,
      "metadata": {
        "colab": {
          "base_uri": "https://localhost:8080/"
        },
        "id": "abHS8_nqLoT0",
        "outputId": "cbcde085-3336-4b85-ddc3-50d32de1a1eb"
      },
      "outputs": [
        {
          "name": "stdout",
          "output_type": "stream",
          "text": [
            "[[-0.66608954 -2.55298178 -0.01761655 -0.74808892]\n",
            " [-0.69548085  0.280289    0.61027749 -0.21163715]\n",
            " [ 0.8516841  -0.87394951  1.07437308  0.86595155]\n",
            " ...\n",
            " [ 0.8516841   1.07132712 -0.27241413  0.39743473]\n",
            " [-0.66515648  1.34372741 -2.39876061 -0.68718173]\n",
            " [-0.66453444  1.77926007 -3.85171348  0.71368358]]\n"
          ]
        }
      ],
      "source": [
        "print(X_train)"
      ]
    },
    {
      "cell_type": "code",
      "execution_count": null,
      "metadata": {
        "colab": {
          "base_uri": "https://localhost:8080/"
        },
        "id": "2r61213eLroX",
        "outputId": "286cbff2-14c2-4001-9167-7efa266bdc51"
      },
      "outputs": [
        {
          "name": "stdout",
          "output_type": "stream",
          "text": [
            "[[-0.63884365 -2.34619061 -1.12146243  0.41463149]\n",
            " [ 0.16372989  1.18067909 -0.56401225  1.28569929]\n",
            " [-0.63930526 -0.4041221  -0.88276701 -1.27833094]\n",
            " ...\n",
            " [-0.66530889  2.38531121  1.34406853  0.9789523 ]\n",
            " [-0.68608102 -1.27133508 -1.0636418  -1.5663453 ]\n",
            " [ 0.99615376 -0.70947878  0.198034    0.10320133]]\n"
          ]
        }
      ],
      "source": [
        "print(X_test)"
      ]
    },
    {
      "cell_type": "code",
      "execution_count": null,
      "metadata": {
        "id": "Zk89u8lOFaW0"
      },
      "outputs": [],
      "source": [
        "y_train = y_train.astype(int)\n",
        "y_test = y_test.astype(int)\n"
      ]
    },
    {
      "cell_type": "markdown",
      "metadata": {
        "id": "d53oeYn9eY4L"
      },
      "source": [
        "**Logistic Regression**"
      ]
    },
    {
      "cell_type": "code",
      "execution_count": null,
      "metadata": {
        "colab": {
          "base_uri": "https://localhost:8080/"
        },
        "id": "zrzBXVpqttRX",
        "outputId": "838377c9-b3f1-494b-f2f0-af84e2f664b3"
      },
      "outputs": [
        {
          "name": "stdout",
          "output_type": "stream",
          "text": [
            "0.49896873195280916\n",
            "              precision    recall  f1-score   support\n",
            "\n",
            "           0       0.34      0.28      0.31      2927\n",
            "           1       0.62      0.65      0.63       971\n",
            "           2       0.70      0.74      0.72      1284\n",
            "           3       0.64      0.69      0.67      2099\n",
            "           4       0.37      0.30      0.33      2863\n",
            "           5       0.49      0.66      0.56      1977\n",
            "\n",
            "    accuracy                           0.50     12121\n",
            "   macro avg       0.53      0.56      0.54     12121\n",
            "weighted avg       0.48      0.50      0.49     12121\n",
            "\n"
          ]
        }
      ],
      "source": [
        "from sklearn.linear_model import LogisticRegression\n",
        "from sklearn.metrics import confusion_matrix,classification_report \n",
        "\n",
        "LR = LogisticRegression()\n",
        "LR.fit(X_train,y_train.ravel())\n",
        "pred = LR.predict(X_test)\n",
        "print(accuracy_score(y_test,pred))\n",
        "print(classification_report(y_test,pred))"
      ]
    },
    {
      "cell_type": "markdown",
      "metadata": {
        "id": "Rg3W6vY8ez2-"
      },
      "source": [
        "**KNN**"
      ]
    },
    {
      "cell_type": "code",
      "execution_count": null,
      "metadata": {
        "id": "qUC7SJ3AZauq"
      },
      "outputs": [],
      "source": [
        "from sklearn.neighbors import KNeighborsClassifier \n",
        "k_range = range(1,50)\n",
        "score=[]\n",
        "\n",
        "for k in k_range:\n",
        "  knn_classifier= KNeighborsClassifier(n_neighbors=k, metric='minkowski', p=2 )  \n",
        "  knn_classifier.fit(X_train, y_train) \n",
        "  y_pred = knn_classifier.predict(X_test)\n",
        "  acc_score = accuracy_score(y_test,y_pred)\n",
        "  score.append(acc_score)\n",
        "\n",
        "print(score)  "
      ]
    },
    {
      "cell_type": "code",
      "execution_count": null,
      "metadata": {
        "id": "W5qu-O2rdM7x"
      },
      "outputs": [],
      "source": [
        "import matplotlib.pyplot as plt\n",
        "\n",
        "%matplotlib inline\n",
        "\n",
        "\n",
        "plt.plot(k_range, score)\n",
        "plt.xlabel('Value of K for KNN')\n",
        "plt.ylabel('Testing Accuracy')"
      ]
    },
    {
      "cell_type": "code",
      "execution_count": null,
      "metadata": {
        "id": "vlb5DTjYZ5TA"
      },
      "outputs": [],
      "source": [
        "from sklearn import metrics\n",
        "\n",
        "print(metrics.accuracy_score(y_test, y_pred))\n",
        "print(classification_report(y_test,y_pred))\n",
        "X_new = [['4.03E+12','3.79','10.46','-0.76']]\n",
        "print(knn_classifier.predict(X_new))\n"
      ]
    },
    {
      "cell_type": "markdown",
      "metadata": {
        "id": "H_ZDLqZxe6ww"
      },
      "source": [
        "**SVM**"
      ]
    },
    {
      "cell_type": "code",
      "execution_count": null,
      "metadata": {
        "colab": {
          "background_save": true
        },
        "id": "5JdyavVkF6A0",
        "outputId": "7bb71d2e-0cce-4f9f-ca63-086cf58e421b"
      },
      "outputs": [
        {
          "name": "stdout",
          "output_type": "stream",
          "text": [
            "0.7017572807524132\n"
          ]
        }
      ],
      "source": [
        "from sklearn  import svm\n",
        "model = svm.SVC()\n",
        "model.fit(X_train,y_train)\n",
        "y_pred = model.predict(X_test)\n",
        "acc = accuracy_score(y_test,y_pred)\n",
        "print(acc)"
      ]
    },
    {
      "cell_type": "markdown",
      "metadata": {
        "id": "e9ZqsheffB3K"
      },
      "source": [
        "**NaiveBayes**"
      ]
    },
    {
      "cell_type": "code",
      "execution_count": null,
      "metadata": {
        "colab": {
          "background_save": true
        },
        "id": "UFxfSNLxVLMA",
        "outputId": "c0ea3d61-010d-43b7-c481-b1fe1f1345ca"
      },
      "outputs": [
        {
          "data": {
            "text/plain": [
              "GaussianNB()"
            ]
          },
          "execution_count": 285,
          "metadata": {},
          "output_type": "execute_result"
        }
      ],
      "source": [
        "from sklearn.naive_bayes import GaussianNB\n",
        "gnb = GaussianNB()\n",
        "gnb.fit(X_train, y_train)"
      ]
    },
    {
      "cell_type": "code",
      "execution_count": null,
      "metadata": {
        "colab": {
          "background_save": true
        },
        "id": "08AbDqZRXxvu",
        "outputId": "872af9be-14fe-49f5-dbdf-51dccacc3e8e"
      },
      "outputs": [
        {
          "data": {
            "text/plain": [
              "array([4, 0, 4, ..., 1, 4, 3])"
            ]
          },
          "execution_count": 286,
          "metadata": {},
          "output_type": "execute_result"
        }
      ],
      "source": [
        "y_pred = gnb.predict(X_test)\n",
        "y_pred"
      ]
    },
    {
      "cell_type": "code",
      "execution_count": null,
      "metadata": {
        "colab": {
          "background_save": true
        },
        "id": "WHM7D5nuX0Rk",
        "outputId": "a9dbe36f-c49b-4624-8a68-95db6cbe68b9"
      },
      "outputs": [
        {
          "name": "stdout",
          "output_type": "stream",
          "text": [
            "Model accuracy score: 0.4132\n"
          ]
        }
      ],
      "source": [
        "from sklearn.metrics import accuracy_score\n",
        "print('Model accuracy score: {0:0.4f}'. format(accuracy_score(y_test, y_pred)))"
      ]
    },
    {
      "cell_type": "code",
      "execution_count": null,
      "metadata": {
        "colab": {
          "background_save": true
        },
        "id": "1hbgMxm8X1Eo",
        "outputId": "fb4d6a04-d970-497e-fa6a-1a8fadf47400"
      },
      "outputs": [
        {
          "name": "stdout",
          "output_type": "stream",
          "text": [
            "Training-set accuracy score: 0.6604\n"
          ]
        }
      ],
      "source": [
        "y_pred_train = gnb.predict(X_train)\n",
        "y_pred_train\n",
        "print('Training-set accuracy score: {0:0.4f}'. format(accuracy_score(y_train, y_pred_train)))"
      ]
    },
    {
      "cell_type": "code",
      "execution_count": null,
      "metadata": {
        "colab": {
          "background_save": true
        },
        "id": "ykShWJHAX6AT",
        "outputId": "6cefc58f-960c-4617-9efd-3734ca4009c6"
      },
      "outputs": [
        {
          "name": "stdout",
          "output_type": "stream",
          "text": [
            "Training set score: 0.6604\n",
            "Test set score: 0.4132\n",
            "              precision    recall  f1-score   support\n",
            "\n",
            "           0       0.37      0.63      0.47      2927\n",
            "           1       0.00      0.00      0.00       971\n",
            "           2       0.54      0.49      0.51      1284\n",
            "           3       0.71      0.75      0.73      2099\n",
            "           4       0.35      0.33      0.34      2863\n",
            "           5       1.00      0.00      0.00      1977\n",
            "\n",
            "    accuracy                           0.41     12121\n",
            "   macro avg       0.49      0.37      0.34     12121\n",
            "weighted avg       0.51      0.41      0.37     12121\n",
            "\n",
            "None\n"
          ]
        }
      ],
      "source": [
        "print('Training set score: {:.4f}'.format(gnb.score(X_train, y_train)))\n",
        "print('Test set score: {:.4f}'.format(gnb.score(X_test, y_test)))\n",
        "print(print(classification_report(y_test,y_pred)))"
      ]
    },
    {
      "cell_type": "code",
      "execution_count": null,
      "metadata": {
        "colab": {
          "background_save": true
        },
        "id": "XyIEoDb6ksFm",
        "outputId": "7d7ef34c-3a76-4587-e51d-d1f6e4f7ae53"
      },
      "outputs": [
        {
          "name": "stdout",
          "output_type": "stream",
          "text": [
            "0.5962379341638478\n"
          ]
        }
      ],
      "source": [
        "RFclassifier = RandomForestClassifier(n_estimators = 10, criterion = 'entropy', random_state = 42)\n",
        "RFclassifier.fit(X_train, y_train)\n",
        "y_pred = RFclassifier.predict(X_test)\n",
        "print(accuracy_score(y_test,y_pred))"
      ]
    }
  ],
  "metadata": {
    "accelerator": "GPU",
    "colab": {
      "provenance": []
    },
    "gpuClass": "standard",
    "kernelspec": {
      "display_name": "Python 3",
      "name": "python3"
    },
    "language_info": {
      "name": "python"
    }
  },
  "nbformat": 4,
  "nbformat_minor": 0
}