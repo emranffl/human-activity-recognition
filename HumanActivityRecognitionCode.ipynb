{
  "nbformat": 4,
  "nbformat_minor": 0,
  "metadata": {
    "colab": {
      "provenance": []
    },
    "kernelspec": {
      "name": "python3",
      "display_name": "Python 3"
    },
    "language_info": {
      "name": "python"
    },
    "accelerator": "GPU",
    "gpuClass": "standard"
  },
  "cells": [
    {
      "cell_type": "code",
      "execution_count": 94,
      "metadata": {
        "id": "XfjW86aviKvt"
      },
      "outputs": [],
      "source": [
        "import numpy as np\n",
        "import pandas as pd\n",
        "from sklearn.svm import SVC\n",
        "from sklearn.linear_model import LogisticRegression\n",
        "from sklearn.neighbors import KNeighborsClassifier\n",
        "from sklearn.ensemble import RandomForestClassifier\n",
        "\n",
        "from sklearn.metrics import accuracy_score"
      ]
    },
    {
      "cell_type": "code",
      "source": [
        "from google.colab import drive\n",
        "drive.mount('/content/drive/')\n"
      ],
      "metadata": {
        "id": "kV6SkBUl7yRn",
        "colab": {
          "base_uri": "https://localhost:8080/"
        },
        "outputId": "be7bb526-8c10-4ea2-8ece-3a65c431e8a5"
      },
      "execution_count": 95,
      "outputs": [
        {
          "output_type": "stream",
          "name": "stdout",
          "text": [
            "Drive already mounted at /content/drive/; to attempt to forcibly remount, call drive.mount(\"/content/drive/\", force_remount=True).\n"
          ]
        }
      ]
    },
    {
      "cell_type": "code",
      "source": [
        "data = pd.read_csv('/content/445.csv')\n",
        "data = data.sample(frac = 1)\n",
        "data.isnull().sum()\n",
        "data.drop('user', inplace=True, axis=1)\n"
      ],
      "metadata": {
        "id": "C7rhICCMiVpA"
      },
      "execution_count": 96,
      "outputs": []
    },
    {
      "cell_type": "code",
      "source": [
        "print(data)"
      ],
      "metadata": {
        "id": "0sRPbaJMMAl5",
        "colab": {
          "base_uri": "https://localhost:8080/"
        },
        "outputId": "1b038f09-8342-4c80-ad0f-3633214aec80"
      },
      "execution_count": 97,
      "outputs": [
        {
          "output_type": "stream",
          "name": "stdout",
          "text": [
            "         activity     timestamp  x-axis  y-axis    z-axis\n",
            "13464  Downstairs  1.030000e+14    2.37    7.27 -5.050000\n",
            "18057  Downstairs  2.580000e+12    0.00   13.21  4.794363\n",
            "53120     Walking  5.330000e+12   -3.72   15.28  0.230000\n",
            "24031     Jogging  5.420000e+12    1.88    3.95 -1.880000\n",
            "39701    Upstairs  1.030000e+14   -0.50   -3.02 -2.070000\n",
            "...           ...           ...     ...     ...       ...\n",
            "36051     Sitting  1.120000e+14   -0.89   -1.73  9.470000\n",
            "22126     Jogging  5.480000e+12   10.80    3.83  0.930000\n",
            "13904  Downstairs  1.030000e+14   -1.27   11.80  5.560000\n",
            "33858     Sitting  2.090000e+14   -6.59   -3.26  6.740000\n",
            "1031     Standing  1.030000e+14   -1.12    9.38 -0.500000\n",
            "\n",
            "[59994 rows x 5 columns]\n"
          ]
        }
      ]
    },
    {
      "cell_type": "code",
      "source": [
        "data_dup = data.duplicated().any()\n",
        "data = data.drop_duplicates()\n",
        "print(data_dup)"
      ],
      "metadata": {
        "id": "px2CbOj-oPIT",
        "colab": {
          "base_uri": "https://localhost:8080/"
        },
        "outputId": "f8df77a5-76f1-496a-d9ff-7519115382d7"
      },
      "execution_count": 98,
      "outputs": [
        {
          "output_type": "stream",
          "name": "stdout",
          "text": [
            "True\n"
          ]
        }
      ]
    },
    {
      "cell_type": "code",
      "source": [
        "categorical=[]\n",
        "numerical=[]\n",
        "\n",
        "\n",
        "for column in data.columns:\n",
        "  if data[column].nunique()<=10 :\n",
        "    categorical.append(column)\n",
        "  else:\n",
        "    numerical.append(column)\n",
        "\n",
        "\n",
        "\n"
      ],
      "metadata": {
        "id": "NdwMfpZcoqri"
      },
      "execution_count": 99,
      "outputs": []
    },
    {
      "cell_type": "code",
      "source": [
        "from sklearn.preprocessing import LabelEncoder\n",
        "LE = LabelEncoder()\n",
        "data['activity_cat'] = LE.fit_transform(data['activity'])\n",
        "\n"
      ],
      "metadata": {
        "id": "uBEcnOfW_dUU"
      },
      "execution_count": 100,
      "outputs": []
    },
    {
      "cell_type": "code",
      "source": [
        "data['activity'].unique()\n",
        "data = pd.get_dummies(data,columns = categorical,drop_first = True)\n",
        "data.head()"
      ],
      "metadata": {
        "id": "B47BuLdNqufy",
        "colab": {
          "base_uri": "https://localhost:8080/",
          "height": 206
        },
        "outputId": "167cd0e9-abe5-4c2f-e2a2-cc415b50e924"
      },
      "execution_count": 101,
      "outputs": [
        {
          "output_type": "execute_result",
          "data": {
            "text/plain": [
              "          timestamp  x-axis  y-axis    z-axis  activity_cat  activity_Jogging  \\\n",
              "13464  1.030000e+14    2.37    7.27 -5.050000             0                 0   \n",
              "18057  2.580000e+12    0.00   13.21  4.794363             0                 0   \n",
              "53120  5.330000e+12   -3.72   15.28  0.230000             5                 0   \n",
              "24031  5.420000e+12    1.88    3.95 -1.880000             1                 1   \n",
              "39701  1.030000e+14   -0.50   -3.02 -2.070000             4                 0   \n",
              "\n",
              "       activity_Sitting  activity_Standing  activity_Upstairs  \\\n",
              "13464                 0                  0                  0   \n",
              "18057                 0                  0                  0   \n",
              "53120                 0                  0                  0   \n",
              "24031                 0                  0                  0   \n",
              "39701                 0                  0                  1   \n",
              "\n",
              "       activity_Walking  \n",
              "13464                 0  \n",
              "18057                 0  \n",
              "53120                 1  \n",
              "24031                 0  \n",
              "39701                 0  "
            ],
            "text/html": [
              "\n",
              "  <div id=\"df-ad165257-8dde-4ccb-9d76-dbe83402e225\">\n",
              "    <div class=\"colab-df-container\">\n",
              "      <div>\n",
              "<style scoped>\n",
              "    .dataframe tbody tr th:only-of-type {\n",
              "        vertical-align: middle;\n",
              "    }\n",
              "\n",
              "    .dataframe tbody tr th {\n",
              "        vertical-align: top;\n",
              "    }\n",
              "\n",
              "    .dataframe thead th {\n",
              "        text-align: right;\n",
              "    }\n",
              "</style>\n",
              "<table border=\"1\" class=\"dataframe\">\n",
              "  <thead>\n",
              "    <tr style=\"text-align: right;\">\n",
              "      <th></th>\n",
              "      <th>timestamp</th>\n",
              "      <th>x-axis</th>\n",
              "      <th>y-axis</th>\n",
              "      <th>z-axis</th>\n",
              "      <th>activity_cat</th>\n",
              "      <th>activity_Jogging</th>\n",
              "      <th>activity_Sitting</th>\n",
              "      <th>activity_Standing</th>\n",
              "      <th>activity_Upstairs</th>\n",
              "      <th>activity_Walking</th>\n",
              "    </tr>\n",
              "  </thead>\n",
              "  <tbody>\n",
              "    <tr>\n",
              "      <th>13464</th>\n",
              "      <td>1.030000e+14</td>\n",
              "      <td>2.37</td>\n",
              "      <td>7.27</td>\n",
              "      <td>-5.050000</td>\n",
              "      <td>0</td>\n",
              "      <td>0</td>\n",
              "      <td>0</td>\n",
              "      <td>0</td>\n",
              "      <td>0</td>\n",
              "      <td>0</td>\n",
              "    </tr>\n",
              "    <tr>\n",
              "      <th>18057</th>\n",
              "      <td>2.580000e+12</td>\n",
              "      <td>0.00</td>\n",
              "      <td>13.21</td>\n",
              "      <td>4.794363</td>\n",
              "      <td>0</td>\n",
              "      <td>0</td>\n",
              "      <td>0</td>\n",
              "      <td>0</td>\n",
              "      <td>0</td>\n",
              "      <td>0</td>\n",
              "    </tr>\n",
              "    <tr>\n",
              "      <th>53120</th>\n",
              "      <td>5.330000e+12</td>\n",
              "      <td>-3.72</td>\n",
              "      <td>15.28</td>\n",
              "      <td>0.230000</td>\n",
              "      <td>5</td>\n",
              "      <td>0</td>\n",
              "      <td>0</td>\n",
              "      <td>0</td>\n",
              "      <td>0</td>\n",
              "      <td>1</td>\n",
              "    </tr>\n",
              "    <tr>\n",
              "      <th>24031</th>\n",
              "      <td>5.420000e+12</td>\n",
              "      <td>1.88</td>\n",
              "      <td>3.95</td>\n",
              "      <td>-1.880000</td>\n",
              "      <td>1</td>\n",
              "      <td>1</td>\n",
              "      <td>0</td>\n",
              "      <td>0</td>\n",
              "      <td>0</td>\n",
              "      <td>0</td>\n",
              "    </tr>\n",
              "    <tr>\n",
              "      <th>39701</th>\n",
              "      <td>1.030000e+14</td>\n",
              "      <td>-0.50</td>\n",
              "      <td>-3.02</td>\n",
              "      <td>-2.070000</td>\n",
              "      <td>4</td>\n",
              "      <td>0</td>\n",
              "      <td>0</td>\n",
              "      <td>0</td>\n",
              "      <td>1</td>\n",
              "      <td>0</td>\n",
              "    </tr>\n",
              "  </tbody>\n",
              "</table>\n",
              "</div>\n",
              "      <button class=\"colab-df-convert\" onclick=\"convertToInteractive('df-ad165257-8dde-4ccb-9d76-dbe83402e225')\"\n",
              "              title=\"Convert this dataframe to an interactive table.\"\n",
              "              style=\"display:none;\">\n",
              "        \n",
              "  <svg xmlns=\"http://www.w3.org/2000/svg\" height=\"24px\"viewBox=\"0 0 24 24\"\n",
              "       width=\"24px\">\n",
              "    <path d=\"M0 0h24v24H0V0z\" fill=\"none\"/>\n",
              "    <path d=\"M18.56 5.44l.94 2.06.94-2.06 2.06-.94-2.06-.94-.94-2.06-.94 2.06-2.06.94zm-11 1L8.5 8.5l.94-2.06 2.06-.94-2.06-.94L8.5 2.5l-.94 2.06-2.06.94zm10 10l.94 2.06.94-2.06 2.06-.94-2.06-.94-.94-2.06-.94 2.06-2.06.94z\"/><path d=\"M17.41 7.96l-1.37-1.37c-.4-.4-.92-.59-1.43-.59-.52 0-1.04.2-1.43.59L10.3 9.45l-7.72 7.72c-.78.78-.78 2.05 0 2.83L4 21.41c.39.39.9.59 1.41.59.51 0 1.02-.2 1.41-.59l7.78-7.78 2.81-2.81c.8-.78.8-2.07 0-2.86zM5.41 20L4 18.59l7.72-7.72 1.47 1.35L5.41 20z\"/>\n",
              "  </svg>\n",
              "      </button>\n",
              "      \n",
              "  <style>\n",
              "    .colab-df-container {\n",
              "      display:flex;\n",
              "      flex-wrap:wrap;\n",
              "      gap: 12px;\n",
              "    }\n",
              "\n",
              "    .colab-df-convert {\n",
              "      background-color: #E8F0FE;\n",
              "      border: none;\n",
              "      border-radius: 50%;\n",
              "      cursor: pointer;\n",
              "      display: none;\n",
              "      fill: #1967D2;\n",
              "      height: 32px;\n",
              "      padding: 0 0 0 0;\n",
              "      width: 32px;\n",
              "    }\n",
              "\n",
              "    .colab-df-convert:hover {\n",
              "      background-color: #E2EBFA;\n",
              "      box-shadow: 0px 1px 2px rgba(60, 64, 67, 0.3), 0px 1px 3px 1px rgba(60, 64, 67, 0.15);\n",
              "      fill: #174EA6;\n",
              "    }\n",
              "\n",
              "    [theme=dark] .colab-df-convert {\n",
              "      background-color: #3B4455;\n",
              "      fill: #D2E3FC;\n",
              "    }\n",
              "\n",
              "    [theme=dark] .colab-df-convert:hover {\n",
              "      background-color: #434B5C;\n",
              "      box-shadow: 0px 1px 3px 1px rgba(0, 0, 0, 0.15);\n",
              "      filter: drop-shadow(0px 1px 2px rgba(0, 0, 0, 0.3));\n",
              "      fill: #FFFFFF;\n",
              "    }\n",
              "  </style>\n",
              "\n",
              "      <script>\n",
              "        const buttonEl =\n",
              "          document.querySelector('#df-ad165257-8dde-4ccb-9d76-dbe83402e225 button.colab-df-convert');\n",
              "        buttonEl.style.display =\n",
              "          google.colab.kernel.accessAllowed ? 'block' : 'none';\n",
              "\n",
              "        async function convertToInteractive(key) {\n",
              "          const element = document.querySelector('#df-ad165257-8dde-4ccb-9d76-dbe83402e225');\n",
              "          const dataTable =\n",
              "            await google.colab.kernel.invokeFunction('convertToInteractive',\n",
              "                                                     [key], {});\n",
              "          if (!dataTable) return;\n",
              "\n",
              "          const docLinkHtml = 'Like what you see? Visit the ' +\n",
              "            '<a target=\"_blank\" href=https://colab.research.google.com/notebooks/data_table.ipynb>data table notebook</a>'\n",
              "            + ' to learn more about interactive tables.';\n",
              "          element.innerHTML = '';\n",
              "          dataTable['output_type'] = 'display_data';\n",
              "          await google.colab.output.renderOutput(dataTable, element);\n",
              "          const docLink = document.createElement('div');\n",
              "          docLink.innerHTML = docLinkHtml;\n",
              "          element.appendChild(docLink);\n",
              "        }\n",
              "      </script>\n",
              "    </div>\n",
              "  </div>\n",
              "  "
            ]
          },
          "metadata": {},
          "execution_count": 101
        }
      ]
    },
    {
      "cell_type": "markdown",
      "source": [],
      "metadata": {
        "id": "n8hlYJl7JaiK"
      }
    },
    {
      "cell_type": "code",
      "source": [
        "data"
      ],
      "metadata": {
        "id": "0bpuqkfDwLiT",
        "colab": {
          "base_uri": "https://localhost:8080/",
          "height": 424
        },
        "outputId": "c5a088d0-bde0-4019-ab49-804ab3a1db4b"
      },
      "execution_count": 102,
      "outputs": [
        {
          "output_type": "execute_result",
          "data": {
            "text/plain": [
              "          timestamp  x-axis  y-axis    z-axis  activity_cat  activity_Jogging  \\\n",
              "13464  1.030000e+14    2.37    7.27 -5.050000             0                 0   \n",
              "18057  2.580000e+12    0.00   13.21  4.794363             0                 0   \n",
              "53120  5.330000e+12   -3.72   15.28  0.230000             5                 0   \n",
              "24031  5.420000e+12    1.88    3.95 -1.880000             1                 1   \n",
              "39701  1.030000e+14   -0.50   -3.02 -2.070000             4                 0   \n",
              "...             ...     ...     ...       ...           ...               ...   \n",
              "15765  1.030000e+14   -2.79   10.19  1.310000             0                 0   \n",
              "34706  2.090000e+14   -6.66   -3.06  6.700000             2                 0   \n",
              "3838   3.200000e+12   -1.73    9.58  0.721878             3                 0   \n",
              "6099   2.090000e+14   -8.12    5.60 -0.650000             3                 0   \n",
              "13904  1.030000e+14   -1.27   11.80  5.560000             0                 0   \n",
              "\n",
              "       activity_Sitting  activity_Standing  activity_Upstairs  \\\n",
              "13464                 0                  0                  0   \n",
              "18057                 0                  0                  0   \n",
              "53120                 0                  0                  0   \n",
              "24031                 0                  0                  0   \n",
              "39701                 0                  0                  1   \n",
              "...                 ...                ...                ...   \n",
              "15765                 0                  0                  0   \n",
              "34706                 1                  0                  0   \n",
              "3838                  0                  1                  0   \n",
              "6099                  0                  1                  0   \n",
              "13904                 0                  0                  0   \n",
              "\n",
              "       activity_Walking  \n",
              "13464                 0  \n",
              "18057                 0  \n",
              "53120                 1  \n",
              "24031                 0  \n",
              "39701                 0  \n",
              "...                 ...  \n",
              "15765                 0  \n",
              "34706                 0  \n",
              "3838                  0  \n",
              "6099                  0  \n",
              "13904                 0  \n",
              "\n",
              "[40401 rows x 10 columns]"
            ],
            "text/html": [
              "\n",
              "  <div id=\"df-eb2728f7-24ee-43eb-8a52-a52bcccd4b69\">\n",
              "    <div class=\"colab-df-container\">\n",
              "      <div>\n",
              "<style scoped>\n",
              "    .dataframe tbody tr th:only-of-type {\n",
              "        vertical-align: middle;\n",
              "    }\n",
              "\n",
              "    .dataframe tbody tr th {\n",
              "        vertical-align: top;\n",
              "    }\n",
              "\n",
              "    .dataframe thead th {\n",
              "        text-align: right;\n",
              "    }\n",
              "</style>\n",
              "<table border=\"1\" class=\"dataframe\">\n",
              "  <thead>\n",
              "    <tr style=\"text-align: right;\">\n",
              "      <th></th>\n",
              "      <th>timestamp</th>\n",
              "      <th>x-axis</th>\n",
              "      <th>y-axis</th>\n",
              "      <th>z-axis</th>\n",
              "      <th>activity_cat</th>\n",
              "      <th>activity_Jogging</th>\n",
              "      <th>activity_Sitting</th>\n",
              "      <th>activity_Standing</th>\n",
              "      <th>activity_Upstairs</th>\n",
              "      <th>activity_Walking</th>\n",
              "    </tr>\n",
              "  </thead>\n",
              "  <tbody>\n",
              "    <tr>\n",
              "      <th>13464</th>\n",
              "      <td>1.030000e+14</td>\n",
              "      <td>2.37</td>\n",
              "      <td>7.27</td>\n",
              "      <td>-5.050000</td>\n",
              "      <td>0</td>\n",
              "      <td>0</td>\n",
              "      <td>0</td>\n",
              "      <td>0</td>\n",
              "      <td>0</td>\n",
              "      <td>0</td>\n",
              "    </tr>\n",
              "    <tr>\n",
              "      <th>18057</th>\n",
              "      <td>2.580000e+12</td>\n",
              "      <td>0.00</td>\n",
              "      <td>13.21</td>\n",
              "      <td>4.794363</td>\n",
              "      <td>0</td>\n",
              "      <td>0</td>\n",
              "      <td>0</td>\n",
              "      <td>0</td>\n",
              "      <td>0</td>\n",
              "      <td>0</td>\n",
              "    </tr>\n",
              "    <tr>\n",
              "      <th>53120</th>\n",
              "      <td>5.330000e+12</td>\n",
              "      <td>-3.72</td>\n",
              "      <td>15.28</td>\n",
              "      <td>0.230000</td>\n",
              "      <td>5</td>\n",
              "      <td>0</td>\n",
              "      <td>0</td>\n",
              "      <td>0</td>\n",
              "      <td>0</td>\n",
              "      <td>1</td>\n",
              "    </tr>\n",
              "    <tr>\n",
              "      <th>24031</th>\n",
              "      <td>5.420000e+12</td>\n",
              "      <td>1.88</td>\n",
              "      <td>3.95</td>\n",
              "      <td>-1.880000</td>\n",
              "      <td>1</td>\n",
              "      <td>1</td>\n",
              "      <td>0</td>\n",
              "      <td>0</td>\n",
              "      <td>0</td>\n",
              "      <td>0</td>\n",
              "    </tr>\n",
              "    <tr>\n",
              "      <th>39701</th>\n",
              "      <td>1.030000e+14</td>\n",
              "      <td>-0.50</td>\n",
              "      <td>-3.02</td>\n",
              "      <td>-2.070000</td>\n",
              "      <td>4</td>\n",
              "      <td>0</td>\n",
              "      <td>0</td>\n",
              "      <td>0</td>\n",
              "      <td>1</td>\n",
              "      <td>0</td>\n",
              "    </tr>\n",
              "    <tr>\n",
              "      <th>...</th>\n",
              "      <td>...</td>\n",
              "      <td>...</td>\n",
              "      <td>...</td>\n",
              "      <td>...</td>\n",
              "      <td>...</td>\n",
              "      <td>...</td>\n",
              "      <td>...</td>\n",
              "      <td>...</td>\n",
              "      <td>...</td>\n",
              "      <td>...</td>\n",
              "    </tr>\n",
              "    <tr>\n",
              "      <th>15765</th>\n",
              "      <td>1.030000e+14</td>\n",
              "      <td>-2.79</td>\n",
              "      <td>10.19</td>\n",
              "      <td>1.310000</td>\n",
              "      <td>0</td>\n",
              "      <td>0</td>\n",
              "      <td>0</td>\n",
              "      <td>0</td>\n",
              "      <td>0</td>\n",
              "      <td>0</td>\n",
              "    </tr>\n",
              "    <tr>\n",
              "      <th>34706</th>\n",
              "      <td>2.090000e+14</td>\n",
              "      <td>-6.66</td>\n",
              "      <td>-3.06</td>\n",
              "      <td>6.700000</td>\n",
              "      <td>2</td>\n",
              "      <td>0</td>\n",
              "      <td>1</td>\n",
              "      <td>0</td>\n",
              "      <td>0</td>\n",
              "      <td>0</td>\n",
              "    </tr>\n",
              "    <tr>\n",
              "      <th>3838</th>\n",
              "      <td>3.200000e+12</td>\n",
              "      <td>-1.73</td>\n",
              "      <td>9.58</td>\n",
              "      <td>0.721878</td>\n",
              "      <td>3</td>\n",
              "      <td>0</td>\n",
              "      <td>0</td>\n",
              "      <td>1</td>\n",
              "      <td>0</td>\n",
              "      <td>0</td>\n",
              "    </tr>\n",
              "    <tr>\n",
              "      <th>6099</th>\n",
              "      <td>2.090000e+14</td>\n",
              "      <td>-8.12</td>\n",
              "      <td>5.60</td>\n",
              "      <td>-0.650000</td>\n",
              "      <td>3</td>\n",
              "      <td>0</td>\n",
              "      <td>0</td>\n",
              "      <td>1</td>\n",
              "      <td>0</td>\n",
              "      <td>0</td>\n",
              "    </tr>\n",
              "    <tr>\n",
              "      <th>13904</th>\n",
              "      <td>1.030000e+14</td>\n",
              "      <td>-1.27</td>\n",
              "      <td>11.80</td>\n",
              "      <td>5.560000</td>\n",
              "      <td>0</td>\n",
              "      <td>0</td>\n",
              "      <td>0</td>\n",
              "      <td>0</td>\n",
              "      <td>0</td>\n",
              "      <td>0</td>\n",
              "    </tr>\n",
              "  </tbody>\n",
              "</table>\n",
              "<p>40401 rows × 10 columns</p>\n",
              "</div>\n",
              "      <button class=\"colab-df-convert\" onclick=\"convertToInteractive('df-eb2728f7-24ee-43eb-8a52-a52bcccd4b69')\"\n",
              "              title=\"Convert this dataframe to an interactive table.\"\n",
              "              style=\"display:none;\">\n",
              "        \n",
              "  <svg xmlns=\"http://www.w3.org/2000/svg\" height=\"24px\"viewBox=\"0 0 24 24\"\n",
              "       width=\"24px\">\n",
              "    <path d=\"M0 0h24v24H0V0z\" fill=\"none\"/>\n",
              "    <path d=\"M18.56 5.44l.94 2.06.94-2.06 2.06-.94-2.06-.94-.94-2.06-.94 2.06-2.06.94zm-11 1L8.5 8.5l.94-2.06 2.06-.94-2.06-.94L8.5 2.5l-.94 2.06-2.06.94zm10 10l.94 2.06.94-2.06 2.06-.94-2.06-.94-.94-2.06-.94 2.06-2.06.94z\"/><path d=\"M17.41 7.96l-1.37-1.37c-.4-.4-.92-.59-1.43-.59-.52 0-1.04.2-1.43.59L10.3 9.45l-7.72 7.72c-.78.78-.78 2.05 0 2.83L4 21.41c.39.39.9.59 1.41.59.51 0 1.02-.2 1.41-.59l7.78-7.78 2.81-2.81c.8-.78.8-2.07 0-2.86zM5.41 20L4 18.59l7.72-7.72 1.47 1.35L5.41 20z\"/>\n",
              "  </svg>\n",
              "      </button>\n",
              "      \n",
              "  <style>\n",
              "    .colab-df-container {\n",
              "      display:flex;\n",
              "      flex-wrap:wrap;\n",
              "      gap: 12px;\n",
              "    }\n",
              "\n",
              "    .colab-df-convert {\n",
              "      background-color: #E8F0FE;\n",
              "      border: none;\n",
              "      border-radius: 50%;\n",
              "      cursor: pointer;\n",
              "      display: none;\n",
              "      fill: #1967D2;\n",
              "      height: 32px;\n",
              "      padding: 0 0 0 0;\n",
              "      width: 32px;\n",
              "    }\n",
              "\n",
              "    .colab-df-convert:hover {\n",
              "      background-color: #E2EBFA;\n",
              "      box-shadow: 0px 1px 2px rgba(60, 64, 67, 0.3), 0px 1px 3px 1px rgba(60, 64, 67, 0.15);\n",
              "      fill: #174EA6;\n",
              "    }\n",
              "\n",
              "    [theme=dark] .colab-df-convert {\n",
              "      background-color: #3B4455;\n",
              "      fill: #D2E3FC;\n",
              "    }\n",
              "\n",
              "    [theme=dark] .colab-df-convert:hover {\n",
              "      background-color: #434B5C;\n",
              "      box-shadow: 0px 1px 3px 1px rgba(0, 0, 0, 0.15);\n",
              "      filter: drop-shadow(0px 1px 2px rgba(0, 0, 0, 0.3));\n",
              "      fill: #FFFFFF;\n",
              "    }\n",
              "  </style>\n",
              "\n",
              "      <script>\n",
              "        const buttonEl =\n",
              "          document.querySelector('#df-eb2728f7-24ee-43eb-8a52-a52bcccd4b69 button.colab-df-convert');\n",
              "        buttonEl.style.display =\n",
              "          google.colab.kernel.accessAllowed ? 'block' : 'none';\n",
              "\n",
              "        async function convertToInteractive(key) {\n",
              "          const element = document.querySelector('#df-eb2728f7-24ee-43eb-8a52-a52bcccd4b69');\n",
              "          const dataTable =\n",
              "            await google.colab.kernel.invokeFunction('convertToInteractive',\n",
              "                                                     [key], {});\n",
              "          if (!dataTable) return;\n",
              "\n",
              "          const docLinkHtml = 'Like what you see? Visit the ' +\n",
              "            '<a target=\"_blank\" href=https://colab.research.google.com/notebooks/data_table.ipynb>data table notebook</a>'\n",
              "            + ' to learn more about interactive tables.';\n",
              "          element.innerHTML = '';\n",
              "          dataTable['output_type'] = 'display_data';\n",
              "          await google.colab.output.renderOutput(dataTable, element);\n",
              "          const docLink = document.createElement('div');\n",
              "          docLink.innerHTML = docLinkHtml;\n",
              "          element.appendChild(docLink);\n",
              "        }\n",
              "      </script>\n",
              "    </div>\n",
              "  </div>\n",
              "  "
            ]
          },
          "metadata": {},
          "execution_count": 102
        }
      ]
    },
    {
      "cell_type": "code",
      "source": [
        "\n",
        "X = data.drop(['activity_cat','activity_Jogging','activity_Sitting','activity_Standing','activity_Upstairs','activity_Walking'] , axis = 1)\n",
        "y = data['activity_cat']\n",
        "from sklearn.model_selection import train_test_split\n",
        "\n",
        "X_train,X_test,y_train,y_test = train_test_split(X,y,test_size = 0.3,random_state = 42)\n",
        "\n"
      ],
      "metadata": {
        "id": "nUH2JA-C-MOj"
      },
      "execution_count": 103,
      "outputs": []
    },
    {
      "cell_type": "code",
      "source": [
        "print(X)"
      ],
      "metadata": {
        "colab": {
          "base_uri": "https://localhost:8080/"
        },
        "id": "bsplB_9Ibdbj",
        "outputId": "74ae5a61-8452-4bf0-efcd-d23918e14074"
      },
      "execution_count": 104,
      "outputs": [
        {
          "output_type": "stream",
          "name": "stdout",
          "text": [
            "          timestamp  x-axis  y-axis    z-axis\n",
            "13464  1.030000e+14    2.37    7.27 -5.050000\n",
            "18057  2.580000e+12    0.00   13.21  4.794363\n",
            "53120  5.330000e+12   -3.72   15.28  0.230000\n",
            "24031  5.420000e+12    1.88    3.95 -1.880000\n",
            "39701  1.030000e+14   -0.50   -3.02 -2.070000\n",
            "...             ...     ...     ...       ...\n",
            "15765  1.030000e+14   -2.79   10.19  1.310000\n",
            "34706  2.090000e+14   -6.66   -3.06  6.700000\n",
            "3838   3.200000e+12   -1.73    9.58  0.721878\n",
            "6099   2.090000e+14   -8.12    5.60 -0.650000\n",
            "13904  1.030000e+14   -1.27   11.80  5.560000\n",
            "\n",
            "[40401 rows x 4 columns]\n"
          ]
        }
      ]
    },
    {
      "cell_type": "code",
      "source": [
        "from sklearn.preprocessing import MinMaxScaler\n",
        "mm = MinMaxScaler()\n",
        "df_min_max_scale = data.copy()\n",
        "for column in data.columns:\n",
        "  data[column] = (df_min_max_scale[column] - df_min_max_scale[column].min())/(df_min_max_scale[column].max()-df_min_max_scale.min())"
      ],
      "metadata": {
        "id": "w_mESLDEK9XP"
      },
      "execution_count": 105,
      "outputs": []
    },
    {
      "cell_type": "code",
      "source": [
        "from sklearn.preprocessing import StandardScaler\n",
        "st = StandardScaler()\n",
        "st.fit(X_train)\n",
        "X_train = st.fit_transform(X_train)\n",
        "X_test = st.fit_transform(X_test)\n"
      ],
      "metadata": {
        "id": "mnh5sU3pE_ga"
      },
      "execution_count": 106,
      "outputs": []
    },
    {
      "cell_type": "code",
      "source": [
        "print(X_train)"
      ],
      "metadata": {
        "id": "abHS8_nqLoT0",
        "colab": {
          "base_uri": "https://localhost:8080/"
        },
        "outputId": "381158b7-d10b-4d18-b516-604f1271dd74"
      },
      "execution_count": 107,
      "outputs": [
        {
          "output_type": "stream",
          "name": "stdout",
          "text": [
            "[[-0.69475605 -0.96923084  1.20736846 -0.53468858]\n",
            " [-0.70868871  0.3830072   1.42095893 -0.29227038]\n",
            " [-0.69227913  0.02771929  0.52748893 -0.65831004]\n",
            " ...\n",
            " [ 0.83210848  0.42588677 -0.96012356  2.01471233]\n",
            " [-0.66286574  0.45498363  1.54730822  2.01471233]\n",
            " [-0.66317536 -0.65988533  0.29133609  1.74414462]]\n"
          ]
        }
      ]
    },
    {
      "cell_type": "code",
      "source": [
        "print(X_test)"
      ],
      "metadata": {
        "id": "2r61213eLroX",
        "colab": {
          "base_uri": "https://localhost:8080/"
        },
        "outputId": "0e75215e-7031-46f4-9a49-9e37aafad3ae"
      },
      "execution_count": 108,
      "outputs": [
        {
          "output_type": "stream",
          "name": "stdout",
          "text": [
            "[[-0.67158967  0.46237367  0.58425802 -0.99557719]\n",
            " [-0.66863534 -1.01878424 -0.68281573 -0.87965947]\n",
            " [-0.66521454 -1.1068197  -0.99543106  0.93953896]\n",
            " ...\n",
            " [ 0.8517551   0.0221964   0.42719524 -0.28114555]\n",
            " [-0.70797455  0.37124925 -0.17840258  0.23443558]\n",
            " [-0.66614748  1.28558239 -0.06966681  2.69013303]]\n"
          ]
        }
      ]
    },
    {
      "cell_type": "code",
      "source": [
        "y_train = y_train.astype(int)\n",
        "y_test = y_test.astype(int)\n"
      ],
      "metadata": {
        "id": "Zk89u8lOFaW0"
      },
      "execution_count": 109,
      "outputs": []
    },
    {
      "cell_type": "code",
      "source": [
        "from sklearn  import svm\n",
        "\n",
        "model = svm.SVC()\n",
        "model.fit(X_train,y_train)\n",
        "y_pred = model.predict(X_test)\n",
        "acc = accuracy_score(y_test,y_pred)\n",
        "print(acc)"
      ],
      "metadata": {
        "id": "5JdyavVkF6A0",
        "colab": {
          "base_uri": "https://localhost:8080/"
        },
        "outputId": "0624ed3b-ee08-4a6d-d229-5c232eba9604"
      },
      "execution_count": 110,
      "outputs": [
        {
          "output_type": "stream",
          "name": "stdout",
          "text": [
            "0.6950746638066166\n"
          ]
        }
      ]
    },
    {
      "cell_type": "code",
      "source": [
        "from sklearn.linear_model import LogisticRegression\n",
        "from sklearn.metrics import confusion_matrix,classification_report \n",
        "\n",
        "LR = LogisticRegression()\n",
        "LR.fit(X_train,y_train.ravel())\n",
        "pred = LR.predict(X_test)\n",
        "print(classification_report(y_test,pred))"
      ],
      "metadata": {
        "id": "zrzBXVpqttRX",
        "colab": {
          "base_uri": "https://localhost:8080/"
        },
        "outputId": "585b2ae5-b9da-443c-e8d2-ab77c21517c9"
      },
      "execution_count": 111,
      "outputs": [
        {
          "output_type": "stream",
          "name": "stdout",
          "text": [
            "              precision    recall  f1-score   support\n",
            "\n",
            "           0       0.34      0.26      0.30      2988\n",
            "           1       0.61      0.64      0.63       918\n",
            "           2       0.70      0.80      0.74      1269\n",
            "           3       0.62      0.69      0.65      2068\n",
            "           4       0.36      0.30      0.33      2867\n",
            "           5       0.50      0.68      0.58      2011\n",
            "\n",
            "    accuracy                           0.50     12121\n",
            "   macro avg       0.52      0.56      0.54     12121\n",
            "weighted avg       0.48      0.50      0.48     12121\n",
            "\n"
          ]
        }
      ]
    }
  ]
}